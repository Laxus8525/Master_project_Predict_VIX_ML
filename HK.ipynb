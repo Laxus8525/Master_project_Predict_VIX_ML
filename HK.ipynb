{
 "cells": [
  {
   "cell_type": "code",
   "execution_count": 17,
   "id": "2a8b71af",
   "metadata": {},
   "outputs": [],
   "source": [
    "import pandas as pd\n",
    "import numpy as np\n",
    "import matplotlib.pyplot as plt\n",
    "from matplotlib.ticker import PercentFormatter\n",
    "import matplotlib.ticker as mtick\n",
    "import plotly.graph_objs as go\n",
    "%matplotlib inline\n",
    "from random import sample\n",
    "import seaborn as sns\n",
    "import datetime as dt\n",
    "from pandas_datareader import data as pdr\n",
    "from dataclasses import dataclass"
   ]
  },
  {
   "cell_type": "code",
   "execution_count": 18,
   "id": "05fc04f7",
   "metadata": {},
   "outputs": [],
   "source": [
    "from sklearn import metrics\n",
    "from sklearn.metrics import classification_report\n",
    "from sklearn.metrics import accuracy_score\n",
    "from sklearn.metrics import confusion_matrix\n",
    "from sklearn.preprocessing import StandardScaler"
   ]
  },
  {
   "cell_type": "code",
   "execution_count": 19,
   "id": "4394d9b1",
   "metadata": {},
   "outputs": [],
   "source": [
    "def weekly_data(index):\n",
    "    index_ffill = index.resample('d').asfreq().ffill() \n",
    "    index_fri = index_ffill[index_ffill.index.dayofweek==4]\n",
    "    return index_fri"
   ]
  },
  {
   "cell_type": "code",
   "execution_count": 20,
   "id": "cff4f03a",
   "metadata": {},
   "outputs": [],
   "source": [
    "def EWMA(df, n):\n",
    "    EWMA = pd.Series(df[\"Adj Close\"].ewm(span=n).mean(),name = \"EWMA_\" + str(n))\n",
    "    return EWMA\n",
    "\n",
    "def EWMV(df, n):\n",
    "    EWMV = pd.Series(df.ewm(span=n).mean(),name = \"EWMV_\" + str(n))\n",
    "    return EWMV\n",
    "\n",
    "def ATR(df,n):\n",
    "    ATR = pd.concat([(df['High']-df['Low']),\n",
    "           np.abs(df['High'] - df['Adj Close'].shift(1)),\n",
    "           np.abs(df['Low']-df['Adj Close'].shift(1))],axis=1).max(axis=1).rolling(n).mean()\n",
    "    return ATR\n",
    "\n",
    "def DIV(df,N):\n",
    "    alpha = 1.34\n",
    "    k =(alpha-1)/(alpha+(N+1)/(N-1))\n",
    "    c = np.log(df['Adj Close']/df['Open'])\n",
    "    u = np.log(df['Adj Close']/df['Open'])\n",
    "    o = np.log(df['Open']/df['Adj Close'].shift(1))\n",
    "    d = np.log(df['Low']/df['Open'])\n",
    "    V0 = ((o-o.rolling(N).mean())**2).rolling(N).sum()/(N-1)\n",
    "    Vc = ((c-c.rolling(N).mean())**2).rolling(N).sum()/(N-1)\n",
    "    Vrs = (u*(u-c)+d*(d-c)).rolling(N).mean()\n",
    "    DIV = V0 + k*Vc +(1-k)*Vrs\n",
    "    return DIV"
   ]
  },
  {
   "cell_type": "code",
   "execution_count": 21,
   "id": "4b6383a3",
   "metadata": {},
   "outputs": [],
   "source": [
    "def g_mean_f1(y_true,y_pred):\n",
    "    c_m = confusion_matrix(y_true,y_pred)\n",
    "    p_precision = c_m[0,0] / (c_m[0,0] + c_m[0,1])\n",
    "    p_recall = c_m[0,0] / (c_m[0,0] + c_m[1,0])\n",
    "    n_precision = c_m[1,1] / (c_m[1,1] + c_m[1,0])\n",
    "    n_recall = c_m[1,1] / (c_m[1,1] + c_m[0,1])\n",
    "    p_f1_score = 2*(p_precision * p_recall)/(p_precision+p_recall)\n",
    "    n_f1_score = 2*(n_precision * n_recall)/(n_precision+n_recall)\n",
    "    return (p_f1_score * n_f1_score)**0.5"
   ]
  },
  {
   "cell_type": "markdown",
   "id": "ef3dce23",
   "metadata": {},
   "source": [
    "# Hong Kong"
   ]
  },
  {
   "cell_type": "code",
   "execution_count": 22,
   "id": "7854acf6",
   "metadata": {},
   "outputs": [
    {
     "data": {
      "text/html": [
       "<div>\n",
       "<style scoped>\n",
       "    .dataframe tbody tr th:only-of-type {\n",
       "        vertical-align: middle;\n",
       "    }\n",
       "\n",
       "    .dataframe tbody tr th {\n",
       "        vertical-align: top;\n",
       "    }\n",
       "\n",
       "    .dataframe thead th {\n",
       "        text-align: right;\n",
       "    }\n",
       "</style>\n",
       "<table border=\"1\" class=\"dataframe\">\n",
       "  <thead>\n",
       "    <tr style=\"text-align: right;\">\n",
       "      <th></th>\n",
       "      <th>Adj Close</th>\n",
       "      <th>Open</th>\n",
       "      <th>High</th>\n",
       "      <th>Low</th>\n",
       "      <th>Vol.</th>\n",
       "      <th>Change %</th>\n",
       "    </tr>\n",
       "    <tr>\n",
       "      <th>Date</th>\n",
       "      <th></th>\n",
       "      <th></th>\n",
       "      <th></th>\n",
       "      <th></th>\n",
       "      <th></th>\n",
       "      <th></th>\n",
       "    </tr>\n",
       "  </thead>\n",
       "  <tbody>\n",
       "    <tr>\n",
       "      <th>2001-01-05</th>\n",
       "      <td>27.27</td>\n",
       "      <td>27.27</td>\n",
       "      <td>27.27</td>\n",
       "      <td>27.27</td>\n",
       "      <td>NaN</td>\n",
       "      <td>-4.48%</td>\n",
       "    </tr>\n",
       "    <tr>\n",
       "      <th>2001-01-12</th>\n",
       "      <td>27.09</td>\n",
       "      <td>27.09</td>\n",
       "      <td>27.09</td>\n",
       "      <td>27.09</td>\n",
       "      <td>NaN</td>\n",
       "      <td>-3.70%</td>\n",
       "    </tr>\n",
       "    <tr>\n",
       "      <th>2001-01-19</th>\n",
       "      <td>23.11</td>\n",
       "      <td>23.11</td>\n",
       "      <td>23.11</td>\n",
       "      <td>23.11</td>\n",
       "      <td>NaN</td>\n",
       "      <td>-8.04%</td>\n",
       "    </tr>\n",
       "    <tr>\n",
       "      <th>2001-01-26</th>\n",
       "      <td>24.52</td>\n",
       "      <td>24.52</td>\n",
       "      <td>24.52</td>\n",
       "      <td>24.52</td>\n",
       "      <td>NaN</td>\n",
       "      <td>5.60%</td>\n",
       "    </tr>\n",
       "    <tr>\n",
       "      <th>2001-02-02</th>\n",
       "      <td>25.93</td>\n",
       "      <td>25.93</td>\n",
       "      <td>25.93</td>\n",
       "      <td>25.93</td>\n",
       "      <td>NaN</td>\n",
       "      <td>-4.84%</td>\n",
       "    </tr>\n",
       "    <tr>\n",
       "      <th>...</th>\n",
       "      <td>...</td>\n",
       "      <td>...</td>\n",
       "      <td>...</td>\n",
       "      <td>...</td>\n",
       "      <td>...</td>\n",
       "      <td>...</td>\n",
       "    </tr>\n",
       "    <tr>\n",
       "      <th>2022-10-28</th>\n",
       "      <td>39.70</td>\n",
       "      <td>35.75</td>\n",
       "      <td>40.99</td>\n",
       "      <td>34.90</td>\n",
       "      <td>NaN</td>\n",
       "      <td>8.53%</td>\n",
       "    </tr>\n",
       "    <tr>\n",
       "      <th>2022-11-04</th>\n",
       "      <td>37.74</td>\n",
       "      <td>35.97</td>\n",
       "      <td>39.28</td>\n",
       "      <td>35.91</td>\n",
       "      <td>NaN</td>\n",
       "      <td>1.86%</td>\n",
       "    </tr>\n",
       "    <tr>\n",
       "      <th>2022-11-11</th>\n",
       "      <td>37.32</td>\n",
       "      <td>33.91</td>\n",
       "      <td>38.17</td>\n",
       "      <td>33.75</td>\n",
       "      <td>NaN</td>\n",
       "      <td>3.90%</td>\n",
       "    </tr>\n",
       "    <tr>\n",
       "      <th>2022-11-18</th>\n",
       "      <td>34.86</td>\n",
       "      <td>35.40</td>\n",
       "      <td>36.95</td>\n",
       "      <td>34.85</td>\n",
       "      <td>NaN</td>\n",
       "      <td>-5.25%</td>\n",
       "    </tr>\n",
       "    <tr>\n",
       "      <th>2022-11-25</th>\n",
       "      <td>29.66</td>\n",
       "      <td>29.68</td>\n",
       "      <td>30.13</td>\n",
       "      <td>29.48</td>\n",
       "      <td>NaN</td>\n",
       "      <td>-2.21%</td>\n",
       "    </tr>\n",
       "  </tbody>\n",
       "</table>\n",
       "<p>1143 rows × 6 columns</p>\n",
       "</div>"
      ],
      "text/plain": [
       "            Adj Close   Open   High    Low  Vol. Change %\n",
       "Date                                                     \n",
       "2001-01-05      27.27  27.27  27.27  27.27   NaN   -4.48%\n",
       "2001-01-12      27.09  27.09  27.09  27.09   NaN   -3.70%\n",
       "2001-01-19      23.11  23.11  23.11  23.11   NaN   -8.04%\n",
       "2001-01-26      24.52  24.52  24.52  24.52   NaN    5.60%\n",
       "2001-02-02      25.93  25.93  25.93  25.93   NaN   -4.84%\n",
       "...               ...    ...    ...    ...   ...      ...\n",
       "2022-10-28      39.70  35.75  40.99  34.90   NaN    8.53%\n",
       "2022-11-04      37.74  35.97  39.28  35.91   NaN    1.86%\n",
       "2022-11-11      37.32  33.91  38.17  33.75   NaN    3.90%\n",
       "2022-11-18      34.86  35.40  36.95  34.85   NaN   -5.25%\n",
       "2022-11-25      29.66  29.68  30.13  29.48   NaN   -2.21%\n",
       "\n",
       "[1143 rows x 6 columns]"
      ]
     },
     "execution_count": 22,
     "metadata": {},
     "output_type": "execute_result"
    }
   ],
   "source": [
    "hk1 = pd.read_csv('vhsi_pt1.csv',index_col=[0])[::-1]\n",
    "hk1.index = pd.to_datetime(hk1.index)\n",
    "hk2 = pd.read_csv('vhsi_pt2.csv',index_col=[0])[::-1]\n",
    "hk2.index = pd.to_datetime(hk2.index)\n",
    "hk_vix = pd.concat([hk1,hk2],axis=0)\n",
    "hk_vix.rename(columns={'Price':'Adj Close'},inplace=True)\n",
    "hk_vix_w = weekly_data(hk_vix)\n",
    "hk_vix_w"
   ]
  },
  {
   "cell_type": "code",
   "execution_count": 23,
   "id": "44418d34",
   "metadata": {},
   "outputs": [],
   "source": [
    "hk_vix_w.to_csv('hk_vix.csv')"
   ]
  },
  {
   "cell_type": "code",
   "execution_count": 24,
   "id": "9f7ae23b",
   "metadata": {},
   "outputs": [
    {
     "name": "stdout",
     "output_type": "stream",
     "text": [
      "<class 'pandas.core.frame.DataFrame'>\n",
      "DatetimeIndex: 1143 entries, 2001-01-05 to 2022-11-25\n",
      "Freq: 7D\n",
      "Data columns (total 9 columns):\n",
      " #   Column      Non-Null Count  Dtype  \n",
      "---  ------      --------------  -----  \n",
      " 0   Adj Close   1143 non-null   float64\n",
      " 1   Open        1143 non-null   float64\n",
      " 2   High        1143 non-null   float64\n",
      " 3   Low         1143 non-null   float64\n",
      " 4   Vol.        0 non-null      float64\n",
      " 5   Change %    1143 non-null   object \n",
      " 6   vix_return  1143 non-null   float64\n",
      " 7   EWMA_1      1143 non-null   float64\n",
      " 8   EWMA_2      1143 non-null   float64\n",
      "dtypes: float64(8), object(1)\n",
      "memory usage: 89.3+ KB\n"
     ]
    }
   ],
   "source": [
    "hk_vix_w['vix_return'] = np.log(hk_vix_w['Adj Close']/hk_vix_w['Adj Close'].shift(1)).fillna(0)\n",
    "hk_vix_w['EWMA_1'] = EWMA(hk_vix_w,1)\n",
    "hk_vix_w['EWMA_2'] = EWMA(hk_vix_w,2)\n",
    "hk_vix_w.info()"
   ]
  },
  {
   "cell_type": "markdown",
   "id": "04847556",
   "metadata": {},
   "source": [
    "####  USD/HKD"
   ]
  },
  {
   "cell_type": "code",
   "execution_count": 25,
   "id": "572ace4d",
   "metadata": {},
   "outputs": [
    {
     "data": {
      "text/html": [
       "<div>\n",
       "<style scoped>\n",
       "    .dataframe tbody tr th:only-of-type {\n",
       "        vertical-align: middle;\n",
       "    }\n",
       "\n",
       "    .dataframe tbody tr th {\n",
       "        vertical-align: top;\n",
       "    }\n",
       "\n",
       "    .dataframe thead th {\n",
       "        text-align: right;\n",
       "    }\n",
       "</style>\n",
       "<table border=\"1\" class=\"dataframe\">\n",
       "  <thead>\n",
       "    <tr style=\"text-align: right;\">\n",
       "      <th></th>\n",
       "      <th>High</th>\n",
       "      <th>Low</th>\n",
       "      <th>Open</th>\n",
       "      <th>Close</th>\n",
       "      <th>Volume</th>\n",
       "      <th>Adj Close</th>\n",
       "      <th>hkd_return</th>\n",
       "    </tr>\n",
       "    <tr>\n",
       "      <th>Date</th>\n",
       "      <th></th>\n",
       "      <th></th>\n",
       "      <th></th>\n",
       "      <th></th>\n",
       "      <th></th>\n",
       "      <th></th>\n",
       "      <th></th>\n",
       "    </tr>\n",
       "  </thead>\n",
       "  <tbody>\n",
       "    <tr>\n",
       "      <th>2001-07-20</th>\n",
       "      <td>7.80090</td>\n",
       "      <td>7.79880</td>\n",
       "      <td>7.79990</td>\n",
       "      <td>7.79970</td>\n",
       "      <td>0.0</td>\n",
       "      <td>7.79970</td>\n",
       "      <td>0.000000</td>\n",
       "    </tr>\n",
       "    <tr>\n",
       "      <th>2001-07-27</th>\n",
       "      <td>7.80090</td>\n",
       "      <td>7.79860</td>\n",
       "      <td>7.79970</td>\n",
       "      <td>7.79970</td>\n",
       "      <td>0.0</td>\n",
       "      <td>7.79970</td>\n",
       "      <td>0.000000</td>\n",
       "    </tr>\n",
       "    <tr>\n",
       "      <th>2001-08-03</th>\n",
       "      <td>7.80030</td>\n",
       "      <td>7.79820</td>\n",
       "      <td>7.79950</td>\n",
       "      <td>7.79910</td>\n",
       "      <td>0.0</td>\n",
       "      <td>7.79910</td>\n",
       "      <td>-0.000077</td>\n",
       "    </tr>\n",
       "    <tr>\n",
       "      <th>2001-08-10</th>\n",
       "      <td>7.80080</td>\n",
       "      <td>7.79820</td>\n",
       "      <td>7.79970</td>\n",
       "      <td>7.79950</td>\n",
       "      <td>0.0</td>\n",
       "      <td>7.79950</td>\n",
       "      <td>0.000051</td>\n",
       "    </tr>\n",
       "    <tr>\n",
       "      <th>2001-08-17</th>\n",
       "      <td>7.80090</td>\n",
       "      <td>7.79850</td>\n",
       "      <td>7.79970</td>\n",
       "      <td>7.79990</td>\n",
       "      <td>0.0</td>\n",
       "      <td>7.79990</td>\n",
       "      <td>0.000051</td>\n",
       "    </tr>\n",
       "    <tr>\n",
       "      <th>...</th>\n",
       "      <td>...</td>\n",
       "      <td>...</td>\n",
       "      <td>...</td>\n",
       "      <td>...</td>\n",
       "      <td>...</td>\n",
       "      <td>...</td>\n",
       "      <td>...</td>\n",
       "    </tr>\n",
       "    <tr>\n",
       "      <th>2022-10-28</th>\n",
       "      <td>7.84970</td>\n",
       "      <td>7.84690</td>\n",
       "      <td>7.84930</td>\n",
       "      <td>7.84930</td>\n",
       "      <td>0.0</td>\n",
       "      <td>7.84930</td>\n",
       "      <td>0.000093</td>\n",
       "    </tr>\n",
       "    <tr>\n",
       "      <th>2022-11-04</th>\n",
       "      <td>7.85070</td>\n",
       "      <td>7.84890</td>\n",
       "      <td>7.84976</td>\n",
       "      <td>7.84976</td>\n",
       "      <td>0.0</td>\n",
       "      <td>7.84976</td>\n",
       "      <td>0.000059</td>\n",
       "    </tr>\n",
       "    <tr>\n",
       "      <th>2022-11-11</th>\n",
       "      <td>7.84520</td>\n",
       "      <td>7.83405</td>\n",
       "      <td>7.84540</td>\n",
       "      <td>7.84540</td>\n",
       "      <td>0.0</td>\n",
       "      <td>7.84540</td>\n",
       "      <td>-0.000556</td>\n",
       "    </tr>\n",
       "    <tr>\n",
       "      <th>2022-11-18</th>\n",
       "      <td>7.82814</td>\n",
       "      <td>7.82107</td>\n",
       "      <td>7.82647</td>\n",
       "      <td>7.82647</td>\n",
       "      <td>0.0</td>\n",
       "      <td>7.82647</td>\n",
       "      <td>-0.002416</td>\n",
       "    </tr>\n",
       "    <tr>\n",
       "      <th>2022-11-25</th>\n",
       "      <td>7.81796</td>\n",
       "      <td>7.80704</td>\n",
       "      <td>7.80840</td>\n",
       "      <td>7.80840</td>\n",
       "      <td>0.0</td>\n",
       "      <td>7.80840</td>\n",
       "      <td>-0.002311</td>\n",
       "    </tr>\n",
       "  </tbody>\n",
       "</table>\n",
       "<p>1115 rows × 7 columns</p>\n",
       "</div>"
      ],
      "text/plain": [
       "               High      Low     Open    Close  Volume  Adj Close  hkd_return\n",
       "Date                                                                         \n",
       "2001-07-20  7.80090  7.79880  7.79990  7.79970     0.0    7.79970    0.000000\n",
       "2001-07-27  7.80090  7.79860  7.79970  7.79970     0.0    7.79970    0.000000\n",
       "2001-08-03  7.80030  7.79820  7.79950  7.79910     0.0    7.79910   -0.000077\n",
       "2001-08-10  7.80080  7.79820  7.79970  7.79950     0.0    7.79950    0.000051\n",
       "2001-08-17  7.80090  7.79850  7.79970  7.79990     0.0    7.79990    0.000051\n",
       "...             ...      ...      ...      ...     ...        ...         ...\n",
       "2022-10-28  7.84970  7.84690  7.84930  7.84930     0.0    7.84930    0.000093\n",
       "2022-11-04  7.85070  7.84890  7.84976  7.84976     0.0    7.84976    0.000059\n",
       "2022-11-11  7.84520  7.83405  7.84540  7.84540     0.0    7.84540   -0.000556\n",
       "2022-11-18  7.82814  7.82107  7.82647  7.82647     0.0    7.82647   -0.002416\n",
       "2022-11-25  7.81796  7.80704  7.80840  7.80840     0.0    7.80840   -0.002311\n",
       "\n",
       "[1115 rows x 7 columns]"
      ]
     },
     "execution_count": 25,
     "metadata": {},
     "output_type": "execute_result"
    }
   ],
   "source": [
    "start = dt.date(2001, 1, 1)\n",
    "end = dt.date(2022, 11, 29)\n",
    "hkd = pdr.get_data_yahoo('HKD=X',start=start,end=end)\n",
    "hkd_w = weekly_data(hkd)\n",
    "hkd_w['hkd_return'] = np.log(hkd_w['Adj Close']/hkd_w['Adj Close'].shift(1)).fillna(0)\n",
    "hkd_w"
   ]
  },
  {
   "cell_type": "markdown",
   "id": "71d1f856",
   "metadata": {},
   "source": [
    "### stock index"
   ]
  },
  {
   "cell_type": "code",
   "execution_count": 26,
   "id": "117dfcfd",
   "metadata": {},
   "outputs": [
    {
     "data": {
      "text/html": [
       "<div>\n",
       "<style scoped>\n",
       "    .dataframe tbody tr th:only-of-type {\n",
       "        vertical-align: middle;\n",
       "    }\n",
       "\n",
       "    .dataframe tbody tr th {\n",
       "        vertical-align: top;\n",
       "    }\n",
       "\n",
       "    .dataframe thead th {\n",
       "        text-align: right;\n",
       "    }\n",
       "</style>\n",
       "<table border=\"1\" class=\"dataframe\">\n",
       "  <thead>\n",
       "    <tr style=\"text-align: right;\">\n",
       "      <th></th>\n",
       "      <th>High</th>\n",
       "      <th>Low</th>\n",
       "      <th>Open</th>\n",
       "      <th>Close</th>\n",
       "      <th>Volume</th>\n",
       "      <th>Adj Close</th>\n",
       "    </tr>\n",
       "    <tr>\n",
       "      <th>Date</th>\n",
       "      <th></th>\n",
       "      <th></th>\n",
       "      <th></th>\n",
       "      <th></th>\n",
       "      <th></th>\n",
       "      <th></th>\n",
       "    </tr>\n",
       "  </thead>\n",
       "  <tbody>\n",
       "    <tr>\n",
       "      <th>2001-01-05</th>\n",
       "      <td>15494.559570</td>\n",
       "      <td>15275.900391</td>\n",
       "      <td>15354.160156</td>\n",
       "      <td>15447.610352</td>\n",
       "      <td>0.000000e+00</td>\n",
       "      <td>15447.610352</td>\n",
       "    </tr>\n",
       "    <tr>\n",
       "      <th>2001-01-12</th>\n",
       "      <td>15330.150391</td>\n",
       "      <td>15157.370117</td>\n",
       "      <td>15157.370117</td>\n",
       "      <td>15295.419922</td>\n",
       "      <td>0.000000e+00</td>\n",
       "      <td>15295.419922</td>\n",
       "    </tr>\n",
       "    <tr>\n",
       "      <th>2001-01-19</th>\n",
       "      <td>15964.929688</td>\n",
       "      <td>15682.349609</td>\n",
       "      <td>15682.349609</td>\n",
       "      <td>15933.549805</td>\n",
       "      <td>0.000000e+00</td>\n",
       "      <td>15933.549805</td>\n",
       "    </tr>\n",
       "    <tr>\n",
       "      <th>2001-01-26</th>\n",
       "      <td>16099.059570</td>\n",
       "      <td>15940.259766</td>\n",
       "      <td>16053.219727</td>\n",
       "      <td>16044.209961</td>\n",
       "      <td>0.000000e+00</td>\n",
       "      <td>16044.209961</td>\n",
       "    </tr>\n",
       "    <tr>\n",
       "      <th>2001-02-02</th>\n",
       "      <td>16274.669922</td>\n",
       "      <td>16056.200195</td>\n",
       "      <td>16165.429688</td>\n",
       "      <td>16071.290039</td>\n",
       "      <td>0.000000e+00</td>\n",
       "      <td>16071.290039</td>\n",
       "    </tr>\n",
       "    <tr>\n",
       "      <th>...</th>\n",
       "      <td>...</td>\n",
       "      <td>...</td>\n",
       "      <td>...</td>\n",
       "      <td>...</td>\n",
       "      <td>...</td>\n",
       "      <td>...</td>\n",
       "    </tr>\n",
       "    <tr>\n",
       "      <th>2022-10-28</th>\n",
       "      <td>15441.990234</td>\n",
       "      <td>14770.089844</td>\n",
       "      <td>15424.940430</td>\n",
       "      <td>14863.059570</td>\n",
       "      <td>3.051258e+09</td>\n",
       "      <td>14863.059570</td>\n",
       "    </tr>\n",
       "    <tr>\n",
       "      <th>2022-11-04</th>\n",
       "      <td>16513.160156</td>\n",
       "      <td>15442.759766</td>\n",
       "      <td>15442.759766</td>\n",
       "      <td>16161.139648</td>\n",
       "      <td>3.951121e+09</td>\n",
       "      <td>16161.139648</td>\n",
       "    </tr>\n",
       "    <tr>\n",
       "      <th>2022-11-11</th>\n",
       "      <td>17368.039062</td>\n",
       "      <td>16829.000000</td>\n",
       "      <td>17120.050781</td>\n",
       "      <td>17325.660156</td>\n",
       "      <td>5.112566e+09</td>\n",
       "      <td>17325.660156</td>\n",
       "    </tr>\n",
       "    <tr>\n",
       "      <th>2022-11-18</th>\n",
       "      <td>18378.060547</td>\n",
       "      <td>17910.189453</td>\n",
       "      <td>18316.359375</td>\n",
       "      <td>17992.539062</td>\n",
       "      <td>2.792874e+09</td>\n",
       "      <td>17992.539062</td>\n",
       "    </tr>\n",
       "    <tr>\n",
       "      <th>2022-11-25</th>\n",
       "      <td>17673.199219</td>\n",
       "      <td>17412.039062</td>\n",
       "      <td>17673.199219</td>\n",
       "      <td>17573.580078</td>\n",
       "      <td>3.176711e+09</td>\n",
       "      <td>17573.580078</td>\n",
       "    </tr>\n",
       "  </tbody>\n",
       "</table>\n",
       "<p>1143 rows × 6 columns</p>\n",
       "</div>"
      ],
      "text/plain": [
       "                    High           Low          Open         Close  \\\n",
       "Date                                                                 \n",
       "2001-01-05  15494.559570  15275.900391  15354.160156  15447.610352   \n",
       "2001-01-12  15330.150391  15157.370117  15157.370117  15295.419922   \n",
       "2001-01-19  15964.929688  15682.349609  15682.349609  15933.549805   \n",
       "2001-01-26  16099.059570  15940.259766  16053.219727  16044.209961   \n",
       "2001-02-02  16274.669922  16056.200195  16165.429688  16071.290039   \n",
       "...                  ...           ...           ...           ...   \n",
       "2022-10-28  15441.990234  14770.089844  15424.940430  14863.059570   \n",
       "2022-11-04  16513.160156  15442.759766  15442.759766  16161.139648   \n",
       "2022-11-11  17368.039062  16829.000000  17120.050781  17325.660156   \n",
       "2022-11-18  18378.060547  17910.189453  18316.359375  17992.539062   \n",
       "2022-11-25  17673.199219  17412.039062  17673.199219  17573.580078   \n",
       "\n",
       "                  Volume     Adj Close  \n",
       "Date                                    \n",
       "2001-01-05  0.000000e+00  15447.610352  \n",
       "2001-01-12  0.000000e+00  15295.419922  \n",
       "2001-01-19  0.000000e+00  15933.549805  \n",
       "2001-01-26  0.000000e+00  16044.209961  \n",
       "2001-02-02  0.000000e+00  16071.290039  \n",
       "...                  ...           ...  \n",
       "2022-10-28  3.051258e+09  14863.059570  \n",
       "2022-11-04  3.951121e+09  16161.139648  \n",
       "2022-11-11  5.112566e+09  17325.660156  \n",
       "2022-11-18  2.792874e+09  17992.539062  \n",
       "2022-11-25  3.176711e+09  17573.580078  \n",
       "\n",
       "[1143 rows x 6 columns]"
      ]
     },
     "execution_count": 26,
     "metadata": {},
     "output_type": "execute_result"
    }
   ],
   "source": [
    "start = dt.date(2001, 1, 3)\n",
    "end = dt.date(2022, 11, 29)\n",
    "hsi=pdr.get_data_yahoo('^HSI',start=start,end=end)\n",
    "hsi_w = weekly_data(hsi)\n",
    "hsi_w"
   ]
  },
  {
   "cell_type": "code",
   "execution_count": 27,
   "id": "fd193139",
   "metadata": {},
   "outputs": [
    {
     "name": "stdout",
     "output_type": "stream",
     "text": [
      "<class 'pandas.core.frame.DataFrame'>\n",
      "DatetimeIndex: 1143 entries, 2001-01-05 to 2022-11-25\n",
      "Freq: 7D\n",
      "Data columns (total 13 columns):\n",
      " #   Column             Non-Null Count  Dtype  \n",
      "---  ------             --------------  -----  \n",
      " 0   High               1143 non-null   float64\n",
      " 1   Low                1143 non-null   float64\n",
      " 2   Open               1143 non-null   float64\n",
      " 3   Close              1143 non-null   float64\n",
      " 4   Volume             1143 non-null   float64\n",
      " 5   Adj Close          1143 non-null   float64\n",
      " 6   hsi_return         1143 non-null   float64\n",
      " 7   hsi_volume_return  1143 non-null   float64\n",
      " 8   EWMV_2             1143 non-null   float64\n",
      " 9   ATR_2              1142 non-null   float64\n",
      " 10  ATR_4              1140 non-null   float64\n",
      " 11  DIV_2              1140 non-null   float64\n",
      " 12  DIV_4              1136 non-null   float64\n",
      "dtypes: float64(13)\n",
      "memory usage: 125.0 KB\n"
     ]
    },
    {
     "name": "stderr",
     "output_type": "stream",
     "text": [
      "D:\\Anaconda3\\lib\\site-packages\\pandas\\core\\arraylike.py:397: RuntimeWarning: divide by zero encountered in log\n",
      "  result = getattr(ufunc, method)(*inputs, **kwargs)\n"
     ]
    }
   ],
   "source": [
    "hsi_w['hsi_return'] = np.log(hsi_w['Adj Close']/hsi_w['Adj Close'].shift(1)).fillna(0)\n",
    "hsi_w['hsi_volume_return'] = np.log(hsi_w['Volume']/hsi_w['Volume'].shift(1)).fillna(0)\n",
    "hsi_w['EWMV_2'] = EWMV(hsi_w['hsi_return'],2)\n",
    "hsi_w['ATR_2'] = ATR(hsi_w,2)\n",
    "hsi_w['ATR_4'] = ATR(hsi_w,4)\n",
    "hsi_w['DIV_2'] = DIV(hsi_w,2)\n",
    "hsi_w['DIV_4'] = DIV(hsi_w,4)\n",
    "hsi_w.info()"
   ]
  },
  {
   "cell_type": "markdown",
   "id": "8d4132aa",
   "metadata": {},
   "source": [
    "### S&P500"
   ]
  },
  {
   "cell_type": "code",
   "execution_count": 28,
   "id": "a5ac25da",
   "metadata": {},
   "outputs": [
    {
     "data": {
      "text/html": [
       "<div>\n",
       "<style scoped>\n",
       "    .dataframe tbody tr th:only-of-type {\n",
       "        vertical-align: middle;\n",
       "    }\n",
       "\n",
       "    .dataframe tbody tr th {\n",
       "        vertical-align: top;\n",
       "    }\n",
       "\n",
       "    .dataframe thead th {\n",
       "        text-align: right;\n",
       "    }\n",
       "</style>\n",
       "<table border=\"1\" class=\"dataframe\">\n",
       "  <thead>\n",
       "    <tr style=\"text-align: right;\">\n",
       "      <th></th>\n",
       "      <th>High</th>\n",
       "      <th>Low</th>\n",
       "      <th>Open</th>\n",
       "      <th>Close</th>\n",
       "      <th>Volume</th>\n",
       "      <th>Adj Close</th>\n",
       "      <th>sp500_return</th>\n",
       "    </tr>\n",
       "    <tr>\n",
       "      <th>Date</th>\n",
       "      <th></th>\n",
       "      <th></th>\n",
       "      <th></th>\n",
       "      <th></th>\n",
       "      <th></th>\n",
       "      <th></th>\n",
       "      <th></th>\n",
       "    </tr>\n",
       "  </thead>\n",
       "  <tbody>\n",
       "    <tr>\n",
       "      <th>2001-01-05</th>\n",
       "      <td>1334.770020</td>\n",
       "      <td>1294.949951</td>\n",
       "      <td>1333.339966</td>\n",
       "      <td>1298.349976</td>\n",
       "      <td>1.430800e+09</td>\n",
       "      <td>1298.349976</td>\n",
       "      <td>0.000000</td>\n",
       "    </tr>\n",
       "    <tr>\n",
       "      <th>2001-01-12</th>\n",
       "      <td>1333.209961</td>\n",
       "      <td>1311.589966</td>\n",
       "      <td>1326.819946</td>\n",
       "      <td>1318.550049</td>\n",
       "      <td>1.276000e+09</td>\n",
       "      <td>1318.550049</td>\n",
       "      <td>0.015438</td>\n",
       "    </tr>\n",
       "    <tr>\n",
       "      <th>2001-01-19</th>\n",
       "      <td>1354.550049</td>\n",
       "      <td>1336.739990</td>\n",
       "      <td>1347.969971</td>\n",
       "      <td>1342.540039</td>\n",
       "      <td>1.407800e+09</td>\n",
       "      <td>1342.540039</td>\n",
       "      <td>0.018031</td>\n",
       "    </tr>\n",
       "    <tr>\n",
       "      <th>2001-01-26</th>\n",
       "      <td>1357.510010</td>\n",
       "      <td>1342.750000</td>\n",
       "      <td>1357.510010</td>\n",
       "      <td>1354.949951</td>\n",
       "      <td>1.098000e+09</td>\n",
       "      <td>1354.949951</td>\n",
       "      <td>0.009201</td>\n",
       "    </tr>\n",
       "    <tr>\n",
       "      <th>2001-02-02</th>\n",
       "      <td>1376.380005</td>\n",
       "      <td>1348.719971</td>\n",
       "      <td>1373.469971</td>\n",
       "      <td>1349.469971</td>\n",
       "      <td>1.048400e+09</td>\n",
       "      <td>1349.469971</td>\n",
       "      <td>-0.004053</td>\n",
       "    </tr>\n",
       "    <tr>\n",
       "      <th>...</th>\n",
       "      <td>...</td>\n",
       "      <td>...</td>\n",
       "      <td>...</td>\n",
       "      <td>...</td>\n",
       "      <td>...</td>\n",
       "      <td>...</td>\n",
       "      <td>...</td>\n",
       "    </tr>\n",
       "    <tr>\n",
       "      <th>2022-10-28</th>\n",
       "      <td>3905.419922</td>\n",
       "      <td>3808.260010</td>\n",
       "      <td>3808.260010</td>\n",
       "      <td>3901.060059</td>\n",
       "      <td>4.459410e+09</td>\n",
       "      <td>3901.060059</td>\n",
       "      <td>0.038759</td>\n",
       "    </tr>\n",
       "    <tr>\n",
       "      <th>2022-11-04</th>\n",
       "      <td>3796.340088</td>\n",
       "      <td>3708.840088</td>\n",
       "      <td>3766.979980</td>\n",
       "      <td>3770.550049</td>\n",
       "      <td>5.400180e+09</td>\n",
       "      <td>3770.550049</td>\n",
       "      <td>-0.034027</td>\n",
       "    </tr>\n",
       "    <tr>\n",
       "      <th>2022-11-11</th>\n",
       "      <td>4001.479980</td>\n",
       "      <td>3944.820068</td>\n",
       "      <td>3963.719971</td>\n",
       "      <td>3992.929932</td>\n",
       "      <td>5.593310e+09</td>\n",
       "      <td>3992.929932</td>\n",
       "      <td>0.057304</td>\n",
       "    </tr>\n",
       "    <tr>\n",
       "      <th>2022-11-18</th>\n",
       "      <td>3979.889893</td>\n",
       "      <td>3935.979980</td>\n",
       "      <td>3966.389893</td>\n",
       "      <td>3965.340088</td>\n",
       "      <td>4.037360e+09</td>\n",
       "      <td>3965.340088</td>\n",
       "      <td>-0.006934</td>\n",
       "    </tr>\n",
       "    <tr>\n",
       "      <th>2022-11-25</th>\n",
       "      <td>4034.020020</td>\n",
       "      <td>4020.760010</td>\n",
       "      <td>4023.340088</td>\n",
       "      <td>4026.120117</td>\n",
       "      <td>1.706460e+09</td>\n",
       "      <td>4026.120117</td>\n",
       "      <td>0.015212</td>\n",
       "    </tr>\n",
       "  </tbody>\n",
       "</table>\n",
       "<p>1143 rows × 7 columns</p>\n",
       "</div>"
      ],
      "text/plain": [
       "                   High          Low         Open        Close        Volume  \\\n",
       "Date                                                                           \n",
       "2001-01-05  1334.770020  1294.949951  1333.339966  1298.349976  1.430800e+09   \n",
       "2001-01-12  1333.209961  1311.589966  1326.819946  1318.550049  1.276000e+09   \n",
       "2001-01-19  1354.550049  1336.739990  1347.969971  1342.540039  1.407800e+09   \n",
       "2001-01-26  1357.510010  1342.750000  1357.510010  1354.949951  1.098000e+09   \n",
       "2001-02-02  1376.380005  1348.719971  1373.469971  1349.469971  1.048400e+09   \n",
       "...                 ...          ...          ...          ...           ...   \n",
       "2022-10-28  3905.419922  3808.260010  3808.260010  3901.060059  4.459410e+09   \n",
       "2022-11-04  3796.340088  3708.840088  3766.979980  3770.550049  5.400180e+09   \n",
       "2022-11-11  4001.479980  3944.820068  3963.719971  3992.929932  5.593310e+09   \n",
       "2022-11-18  3979.889893  3935.979980  3966.389893  3965.340088  4.037360e+09   \n",
       "2022-11-25  4034.020020  4020.760010  4023.340088  4026.120117  1.706460e+09   \n",
       "\n",
       "              Adj Close  sp500_return  \n",
       "Date                                   \n",
       "2001-01-05  1298.349976      0.000000  \n",
       "2001-01-12  1318.550049      0.015438  \n",
       "2001-01-19  1342.540039      0.018031  \n",
       "2001-01-26  1354.949951      0.009201  \n",
       "2001-02-02  1349.469971     -0.004053  \n",
       "...                 ...           ...  \n",
       "2022-10-28  3901.060059      0.038759  \n",
       "2022-11-04  3770.550049     -0.034027  \n",
       "2022-11-11  3992.929932      0.057304  \n",
       "2022-11-18  3965.340088     -0.006934  \n",
       "2022-11-25  4026.120117      0.015212  \n",
       "\n",
       "[1143 rows x 7 columns]"
      ]
     },
     "execution_count": 28,
     "metadata": {},
     "output_type": "execute_result"
    }
   ],
   "source": [
    "start = dt.date(2001, 1, 3)\n",
    "end = dt.date(2022, 11, 29)\n",
    "sp500=pdr.get_data_yahoo('^GSPC',start=start,end=end)\n",
    "sp500_w = weekly_data(sp500)\n",
    "sp500_w['sp500_return'] = np.log(sp500_w['Adj Close']/sp500_w['Adj Close'].shift(1)).fillna(0)\n",
    "sp500_w"
   ]
  },
  {
   "cell_type": "markdown",
   "id": "2d5925b2",
   "metadata": {},
   "source": [
    "### US VIX"
   ]
  },
  {
   "cell_type": "code",
   "execution_count": 29,
   "id": "a6b13dda",
   "metadata": {},
   "outputs": [
    {
     "data": {
      "text/html": [
       "<div>\n",
       "<style scoped>\n",
       "    .dataframe tbody tr th:only-of-type {\n",
       "        vertical-align: middle;\n",
       "    }\n",
       "\n",
       "    .dataframe tbody tr th {\n",
       "        vertical-align: top;\n",
       "    }\n",
       "\n",
       "    .dataframe thead th {\n",
       "        text-align: right;\n",
       "    }\n",
       "</style>\n",
       "<table border=\"1\" class=\"dataframe\">\n",
       "  <thead>\n",
       "    <tr style=\"text-align: right;\">\n",
       "      <th></th>\n",
       "      <th>High</th>\n",
       "      <th>Low</th>\n",
       "      <th>Open</th>\n",
       "      <th>Close</th>\n",
       "      <th>Volume</th>\n",
       "      <th>Adj Close</th>\n",
       "      <th>us_vix_return</th>\n",
       "    </tr>\n",
       "    <tr>\n",
       "      <th>Date</th>\n",
       "      <th></th>\n",
       "      <th></th>\n",
       "      <th></th>\n",
       "      <th></th>\n",
       "      <th></th>\n",
       "      <th></th>\n",
       "      <th></th>\n",
       "    </tr>\n",
       "  </thead>\n",
       "  <tbody>\n",
       "    <tr>\n",
       "      <th>2001-01-05</th>\n",
       "      <td>29.040001</td>\n",
       "      <td>27.209999</td>\n",
       "      <td>27.809999</td>\n",
       "      <td>28.670000</td>\n",
       "      <td>0.0</td>\n",
       "      <td>28.670000</td>\n",
       "      <td>0.000000</td>\n",
       "    </tr>\n",
       "    <tr>\n",
       "      <th>2001-01-12</th>\n",
       "      <td>25.480000</td>\n",
       "      <td>24.500000</td>\n",
       "      <td>25.309999</td>\n",
       "      <td>24.559999</td>\n",
       "      <td>0.0</td>\n",
       "      <td>24.559999</td>\n",
       "      <td>-0.154732</td>\n",
       "    </tr>\n",
       "    <tr>\n",
       "      <th>2001-01-19</th>\n",
       "      <td>24.080000</td>\n",
       "      <td>23.000000</td>\n",
       "      <td>23.620001</td>\n",
       "      <td>23.240000</td>\n",
       "      <td>0.0</td>\n",
       "      <td>23.240000</td>\n",
       "      <td>-0.055244</td>\n",
       "    </tr>\n",
       "    <tr>\n",
       "      <th>2001-01-26</th>\n",
       "      <td>23.049999</td>\n",
       "      <td>22.440001</td>\n",
       "      <td>22.520000</td>\n",
       "      <td>22.570000</td>\n",
       "      <td>0.0</td>\n",
       "      <td>22.570000</td>\n",
       "      <td>-0.029253</td>\n",
       "    </tr>\n",
       "    <tr>\n",
       "      <th>2001-02-02</th>\n",
       "      <td>21.950001</td>\n",
       "      <td>20.809999</td>\n",
       "      <td>20.870001</td>\n",
       "      <td>21.950001</td>\n",
       "      <td>0.0</td>\n",
       "      <td>21.950001</td>\n",
       "      <td>-0.027854</td>\n",
       "    </tr>\n",
       "    <tr>\n",
       "      <th>...</th>\n",
       "      <td>...</td>\n",
       "      <td>...</td>\n",
       "      <td>...</td>\n",
       "      <td>...</td>\n",
       "      <td>...</td>\n",
       "      <td>...</td>\n",
       "      <td>...</td>\n",
       "    </tr>\n",
       "    <tr>\n",
       "      <th>2022-10-28</th>\n",
       "      <td>27.590000</td>\n",
       "      <td>25.750000</td>\n",
       "      <td>27.430000</td>\n",
       "      <td>25.750000</td>\n",
       "      <td>0.0</td>\n",
       "      <td>25.750000</td>\n",
       "      <td>-0.142376</td>\n",
       "    </tr>\n",
       "    <tr>\n",
       "      <th>2022-11-04</th>\n",
       "      <td>25.709999</td>\n",
       "      <td>24.000000</td>\n",
       "      <td>25.629999</td>\n",
       "      <td>24.549999</td>\n",
       "      <td>0.0</td>\n",
       "      <td>24.549999</td>\n",
       "      <td>-0.047723</td>\n",
       "    </tr>\n",
       "    <tr>\n",
       "      <th>2022-11-11</th>\n",
       "      <td>23.910000</td>\n",
       "      <td>22.370001</td>\n",
       "      <td>23.889999</td>\n",
       "      <td>22.520000</td>\n",
       "      <td>0.0</td>\n",
       "      <td>22.520000</td>\n",
       "      <td>-0.086308</td>\n",
       "    </tr>\n",
       "    <tr>\n",
       "      <th>2022-11-18</th>\n",
       "      <td>24.120001</td>\n",
       "      <td>22.980000</td>\n",
       "      <td>24.030001</td>\n",
       "      <td>23.120001</td>\n",
       "      <td>0.0</td>\n",
       "      <td>23.120001</td>\n",
       "      <td>0.026294</td>\n",
       "    </tr>\n",
       "    <tr>\n",
       "      <th>2022-11-25</th>\n",
       "      <td>21.110001</td>\n",
       "      <td>20.459999</td>\n",
       "      <td>20.610001</td>\n",
       "      <td>20.500000</td>\n",
       "      <td>0.0</td>\n",
       "      <td>20.500000</td>\n",
       "      <td>-0.120273</td>\n",
       "    </tr>\n",
       "  </tbody>\n",
       "</table>\n",
       "<p>1143 rows × 7 columns</p>\n",
       "</div>"
      ],
      "text/plain": [
       "                 High        Low       Open      Close  Volume  Adj Close  \\\n",
       "Date                                                                        \n",
       "2001-01-05  29.040001  27.209999  27.809999  28.670000     0.0  28.670000   \n",
       "2001-01-12  25.480000  24.500000  25.309999  24.559999     0.0  24.559999   \n",
       "2001-01-19  24.080000  23.000000  23.620001  23.240000     0.0  23.240000   \n",
       "2001-01-26  23.049999  22.440001  22.520000  22.570000     0.0  22.570000   \n",
       "2001-02-02  21.950001  20.809999  20.870001  21.950001     0.0  21.950001   \n",
       "...               ...        ...        ...        ...     ...        ...   \n",
       "2022-10-28  27.590000  25.750000  27.430000  25.750000     0.0  25.750000   \n",
       "2022-11-04  25.709999  24.000000  25.629999  24.549999     0.0  24.549999   \n",
       "2022-11-11  23.910000  22.370001  23.889999  22.520000     0.0  22.520000   \n",
       "2022-11-18  24.120001  22.980000  24.030001  23.120001     0.0  23.120001   \n",
       "2022-11-25  21.110001  20.459999  20.610001  20.500000     0.0  20.500000   \n",
       "\n",
       "            us_vix_return  \n",
       "Date                       \n",
       "2001-01-05       0.000000  \n",
       "2001-01-12      -0.154732  \n",
       "2001-01-19      -0.055244  \n",
       "2001-01-26      -0.029253  \n",
       "2001-02-02      -0.027854  \n",
       "...                   ...  \n",
       "2022-10-28      -0.142376  \n",
       "2022-11-04      -0.047723  \n",
       "2022-11-11      -0.086308  \n",
       "2022-11-18       0.026294  \n",
       "2022-11-25      -0.120273  \n",
       "\n",
       "[1143 rows x 7 columns]"
      ]
     },
     "execution_count": 29,
     "metadata": {},
     "output_type": "execute_result"
    }
   ],
   "source": [
    "start = dt.date(2001, 1, 3)\n",
    "end = dt.date(2022, 11, 29)\n",
    "vix=pdr.get_data_yahoo('^VIX',start=start,end=end)\n",
    "vix_w = weekly_data(vix)\n",
    "vix_w['us_vix_return'] = np.log(vix_w['Adj Close']/vix_w['Adj Close'].shift(1)).fillna(0)\n",
    "vix_w"
   ]
  },
  {
   "cell_type": "markdown",
   "id": "240d120f",
   "metadata": {},
   "source": [
    "### bond yield"
   ]
  },
  {
   "cell_type": "code",
   "execution_count": 30,
   "id": "8143ae39",
   "metadata": {},
   "outputs": [
    {
     "data": {
      "text/plain": [
       "Security\n",
       "2001-01-05    4.938\n",
       "2001-01-12    4.914\n",
       "2001-01-19    4.890\n",
       "2001-01-26    4.896\n",
       "2001-02-02    4.678\n",
       "              ...  \n",
       "2022-10-28    4.356\n",
       "2022-11-04    4.556\n",
       "2022-11-11    4.363\n",
       "2022-11-18    4.409\n",
       "2022-11-25    4.502\n",
       "Freq: 7D, Name: GTHKD2YR_Corp, Length: 1143, dtype: float64"
      ]
     },
     "execution_count": 30,
     "metadata": {},
     "output_type": "execute_result"
    }
   ],
   "source": [
    "bond = pd.read_csv('bond.csv',index_col=[0])\n",
    "bond.index = pd.to_datetime(bond.index)\n",
    "bond_w = weekly_data(bond)\n",
    "hk_bond = bond_w.iloc[:,0]\n",
    "hk_bond.name='GTHKD2YR_Corp'\n",
    "hk_bond"
   ]
  },
  {
   "cell_type": "markdown",
   "id": "cbbd9e79",
   "metadata": {},
   "source": [
    "### Variables"
   ]
  },
  {
   "cell_type": "code",
   "execution_count": 31,
   "id": "dabb44e5",
   "metadata": {},
   "outputs": [
    {
     "data": {
      "text/html": [
       "<div>\n",
       "<style scoped>\n",
       "    .dataframe tbody tr th:only-of-type {\n",
       "        vertical-align: middle;\n",
       "    }\n",
       "\n",
       "    .dataframe tbody tr th {\n",
       "        vertical-align: top;\n",
       "    }\n",
       "\n",
       "    .dataframe thead th {\n",
       "        text-align: right;\n",
       "    }\n",
       "</style>\n",
       "<table border=\"1\" class=\"dataframe\">\n",
       "  <thead>\n",
       "    <tr style=\"text-align: right;\">\n",
       "      <th></th>\n",
       "      <th>vix</th>\n",
       "      <th>Adj Close</th>\n",
       "      <th>High</th>\n",
       "      <th>Low</th>\n",
       "      <th>vix_return</th>\n",
       "      <th>hsi_return</th>\n",
       "      <th>EWMV_2</th>\n",
       "      <th>ATR_2</th>\n",
       "      <th>ATR_4</th>\n",
       "      <th>DIV_2</th>\n",
       "      <th>DIV_4</th>\n",
       "      <th>hkd_return</th>\n",
       "      <th>us_vix_return</th>\n",
       "      <th>sp500_return</th>\n",
       "      <th>GTHKD2YR_Corp</th>\n",
       "    </tr>\n",
       "  </thead>\n",
       "  <tbody>\n",
       "    <tr>\n",
       "      <th>2001-07-20</th>\n",
       "      <td>1.0</td>\n",
       "      <td>23.03</td>\n",
       "      <td>23.03</td>\n",
       "      <td>23.03</td>\n",
       "      <td>0.021950</td>\n",
       "      <td>-0.024976</td>\n",
       "      <td>-0.023919</td>\n",
       "      <td>428.030273</td>\n",
       "      <td>328.447754</td>\n",
       "      <td>0.000324</td>\n",
       "      <td>0.000421</td>\n",
       "      <td>0.000000</td>\n",
       "      <td>0.055212</td>\n",
       "      <td>-0.003981</td>\n",
       "      <td>4.048</td>\n",
       "    </tr>\n",
       "    <tr>\n",
       "      <th>2001-07-27</th>\n",
       "      <td>-1.0</td>\n",
       "      <td>23.93</td>\n",
       "      <td>23.93</td>\n",
       "      <td>23.93</td>\n",
       "      <td>0.038335</td>\n",
       "      <td>-0.009762</td>\n",
       "      <td>-0.014481</td>\n",
       "      <td>303.459961</td>\n",
       "      <td>334.650146</td>\n",
       "      <td>0.000041</td>\n",
       "      <td>0.000398</td>\n",
       "      <td>0.000000</td>\n",
       "      <td>-0.015336</td>\n",
       "      <td>-0.004163</td>\n",
       "      <td>3.953</td>\n",
       "    </tr>\n",
       "    <tr>\n",
       "      <th>2001-08-03</th>\n",
       "      <td>1.0</td>\n",
       "      <td>21.83</td>\n",
       "      <td>21.83</td>\n",
       "      <td>21.83</td>\n",
       "      <td>-0.091848</td>\n",
       "      <td>0.007109</td>\n",
       "      <td>-0.000088</td>\n",
       "      <td>282.739746</td>\n",
       "      <td>355.385010</td>\n",
       "      <td>0.000513</td>\n",
       "      <td>0.000582</td>\n",
       "      <td>-0.000077</td>\n",
       "      <td>-0.100825</td>\n",
       "      <td>0.007049</td>\n",
       "      <td>3.978</td>\n",
       "    </tr>\n",
       "    <tr>\n",
       "      <th>2001-08-10</th>\n",
       "      <td>1.0</td>\n",
       "      <td>23.91</td>\n",
       "      <td>23.91</td>\n",
       "      <td>23.91</td>\n",
       "      <td>0.091012</td>\n",
       "      <td>-0.041884</td>\n",
       "      <td>-0.027952</td>\n",
       "      <td>469.794922</td>\n",
       "      <td>386.627441</td>\n",
       "      <td>0.001706</td>\n",
       "      <td>0.000756</td>\n",
       "      <td>0.000051</td>\n",
       "      <td>0.032644</td>\n",
       "      <td>-0.020121</td>\n",
       "      <td>3.867</td>\n",
       "    </tr>\n",
       "    <tr>\n",
       "      <th>2001-08-17</th>\n",
       "      <td>1.0</td>\n",
       "      <td>25.48</td>\n",
       "      <td>25.48</td>\n",
       "      <td>25.48</td>\n",
       "      <td>0.063597</td>\n",
       "      <td>-0.000935</td>\n",
       "      <td>-0.009941</td>\n",
       "      <td>386.089844</td>\n",
       "      <td>334.414795</td>\n",
       "      <td>0.001609</td>\n",
       "      <td>0.000714</td>\n",
       "      <td>0.000051</td>\n",
       "      <td>0.148504</td>\n",
       "      <td>-0.023971</td>\n",
       "      <td>3.785</td>\n",
       "    </tr>\n",
       "    <tr>\n",
       "      <th>...</th>\n",
       "      <td>...</td>\n",
       "      <td>...</td>\n",
       "      <td>...</td>\n",
       "      <td>...</td>\n",
       "      <td>...</td>\n",
       "      <td>...</td>\n",
       "      <td>...</td>\n",
       "      <td>...</td>\n",
       "      <td>...</td>\n",
       "      <td>...</td>\n",
       "      <td>...</td>\n",
       "      <td>...</td>\n",
       "      <td>...</td>\n",
       "      <td>...</td>\n",
       "      <td>...</td>\n",
       "    </tr>\n",
       "    <tr>\n",
       "      <th>2022-10-28</th>\n",
       "      <td>-1.0</td>\n",
       "      <td>39.70</td>\n",
       "      <td>40.99</td>\n",
       "      <td>34.90</td>\n",
       "      <td>0.123150</td>\n",
       "      <td>-0.086819</td>\n",
       "      <td>-0.067717</td>\n",
       "      <td>945.770020</td>\n",
       "      <td>938.815186</td>\n",
       "      <td>0.001000</td>\n",
       "      <td>0.001795</td>\n",
       "      <td>0.000093</td>\n",
       "      <td>-0.142376</td>\n",
       "      <td>0.038759</td>\n",
       "      <td>4.356</td>\n",
       "    </tr>\n",
       "    <tr>\n",
       "      <th>2022-11-04</th>\n",
       "      <td>-1.0</td>\n",
       "      <td>37.74</td>\n",
       "      <td>39.28</td>\n",
       "      <td>35.91</td>\n",
       "      <td>-0.050631</td>\n",
       "      <td>0.083731</td>\n",
       "      <td>0.033248</td>\n",
       "      <td>1545.565430</td>\n",
       "      <td>1186.580566</td>\n",
       "      <td>0.002502</td>\n",
       "      <td>0.002063</td>\n",
       "      <td>0.000059</td>\n",
       "      <td>-0.047723</td>\n",
       "      <td>-0.034027</td>\n",
       "      <td>4.556</td>\n",
       "    </tr>\n",
       "    <tr>\n",
       "      <th>2022-11-11</th>\n",
       "      <td>-1.0</td>\n",
       "      <td>37.32</td>\n",
       "      <td>38.17</td>\n",
       "      <td>33.75</td>\n",
       "      <td>-0.011191</td>\n",
       "      <td>0.069579</td>\n",
       "      <td>0.057469</td>\n",
       "      <td>1428.500000</td>\n",
       "      <td>1187.135010</td>\n",
       "      <td>0.002414</td>\n",
       "      <td>0.002594</td>\n",
       "      <td>-0.000556</td>\n",
       "      <td>-0.086308</td>\n",
       "      <td>0.057304</td>\n",
       "      <td>4.363</td>\n",
       "    </tr>\n",
       "    <tr>\n",
       "      <th>2022-11-18</th>\n",
       "      <td>-1.0</td>\n",
       "      <td>34.86</td>\n",
       "      <td>36.95</td>\n",
       "      <td>34.85</td>\n",
       "      <td>-0.068189</td>\n",
       "      <td>0.037769</td>\n",
       "      <td>0.044335</td>\n",
       "      <td>1129.649902</td>\n",
       "      <td>1337.607666</td>\n",
       "      <td>0.000412</td>\n",
       "      <td>0.002909</td>\n",
       "      <td>-0.002416</td>\n",
       "      <td>0.026294</td>\n",
       "      <td>-0.006934</td>\n",
       "      <td>4.409</td>\n",
       "    </tr>\n",
       "    <tr>\n",
       "      <th>2022-11-25</th>\n",
       "      <td>NaN</td>\n",
       "      <td>29.66</td>\n",
       "      <td>30.13</td>\n",
       "      <td>29.48</td>\n",
       "      <td>-0.161541</td>\n",
       "      <td>-0.023561</td>\n",
       "      <td>-0.000929</td>\n",
       "      <td>816.450195</td>\n",
       "      <td>1122.475098</td>\n",
       "      <td>0.001483</td>\n",
       "      <td>0.003504</td>\n",
       "      <td>-0.002311</td>\n",
       "      <td>-0.120273</td>\n",
       "      <td>0.015212</td>\n",
       "      <td>4.502</td>\n",
       "    </tr>\n",
       "  </tbody>\n",
       "</table>\n",
       "<p>1115 rows × 15 columns</p>\n",
       "</div>"
      ],
      "text/plain": [
       "            vix  Adj Close   High    Low  vix_return  hsi_return    EWMV_2  \\\n",
       "2001-07-20  1.0      23.03  23.03  23.03    0.021950   -0.024976 -0.023919   \n",
       "2001-07-27 -1.0      23.93  23.93  23.93    0.038335   -0.009762 -0.014481   \n",
       "2001-08-03  1.0      21.83  21.83  21.83   -0.091848    0.007109 -0.000088   \n",
       "2001-08-10  1.0      23.91  23.91  23.91    0.091012   -0.041884 -0.027952   \n",
       "2001-08-17  1.0      25.48  25.48  25.48    0.063597   -0.000935 -0.009941   \n",
       "...         ...        ...    ...    ...         ...         ...       ...   \n",
       "2022-10-28 -1.0      39.70  40.99  34.90    0.123150   -0.086819 -0.067717   \n",
       "2022-11-04 -1.0      37.74  39.28  35.91   -0.050631    0.083731  0.033248   \n",
       "2022-11-11 -1.0      37.32  38.17  33.75   -0.011191    0.069579  0.057469   \n",
       "2022-11-18 -1.0      34.86  36.95  34.85   -0.068189    0.037769  0.044335   \n",
       "2022-11-25  NaN      29.66  30.13  29.48   -0.161541   -0.023561 -0.000929   \n",
       "\n",
       "                  ATR_2        ATR_4     DIV_2     DIV_4  hkd_return  \\\n",
       "2001-07-20   428.030273   328.447754  0.000324  0.000421    0.000000   \n",
       "2001-07-27   303.459961   334.650146  0.000041  0.000398    0.000000   \n",
       "2001-08-03   282.739746   355.385010  0.000513  0.000582   -0.000077   \n",
       "2001-08-10   469.794922   386.627441  0.001706  0.000756    0.000051   \n",
       "2001-08-17   386.089844   334.414795  0.001609  0.000714    0.000051   \n",
       "...                 ...          ...       ...       ...         ...   \n",
       "2022-10-28   945.770020   938.815186  0.001000  0.001795    0.000093   \n",
       "2022-11-04  1545.565430  1186.580566  0.002502  0.002063    0.000059   \n",
       "2022-11-11  1428.500000  1187.135010  0.002414  0.002594   -0.000556   \n",
       "2022-11-18  1129.649902  1337.607666  0.000412  0.002909   -0.002416   \n",
       "2022-11-25   816.450195  1122.475098  0.001483  0.003504   -0.002311   \n",
       "\n",
       "            us_vix_return  sp500_return  GTHKD2YR_Corp  \n",
       "2001-07-20       0.055212     -0.003981          4.048  \n",
       "2001-07-27      -0.015336     -0.004163          3.953  \n",
       "2001-08-03      -0.100825      0.007049          3.978  \n",
       "2001-08-10       0.032644     -0.020121          3.867  \n",
       "2001-08-17       0.148504     -0.023971          3.785  \n",
       "...                   ...           ...            ...  \n",
       "2022-10-28      -0.142376      0.038759          4.356  \n",
       "2022-11-04      -0.047723     -0.034027          4.556  \n",
       "2022-11-11      -0.086308      0.057304          4.363  \n",
       "2022-11-18       0.026294     -0.006934          4.409  \n",
       "2022-11-25      -0.120273      0.015212          4.502  \n",
       "\n",
       "[1115 rows x 15 columns]"
      ]
     },
     "execution_count": 31,
     "metadata": {},
     "output_type": "execute_result"
    }
   ],
   "source": [
    "Y = np.sign(np.log(hk_vix_w['Adj Close']/hk_vix_w['Adj Close'].shift(1))).shift(-1)\n",
    "Y = Y.apply(lambda x:np.where(x==0,-1,x))\n",
    "Y.name = 'vix'\n",
    "\n",
    "data =pd.concat([Y,\n",
    "                 hk_vix_w[['Adj Close','High','Low','vix_return']],\n",
    "                 hsi_w[['hsi_return','EWMV_2','ATR_2','ATR_4','DIV_2','DIV_4']],\n",
    "                hkd_w[['hkd_return']],\n",
    "                vix_w[['us_vix_return']],\n",
    "                sp500_w['sp500_return'],\n",
    "                 hk_bond,\n",
    "                ],axis=1,join='inner')\n",
    "data"
   ]
  },
  {
   "cell_type": "code",
   "execution_count": 32,
   "id": "0028d300",
   "metadata": {},
   "outputs": [],
   "source": [
    "Y = data.iloc[:,0]\n",
    "X = data.iloc[:,1:].ffill()"
   ]
  },
  {
   "cell_type": "code",
   "execution_count": 150,
   "id": "985ec0ec",
   "metadata": {},
   "outputs": [
    {
     "name": "stdout",
     "output_type": "stream",
     "text": [
      "<class 'pandas.core.frame.DataFrame'>\n",
      "DatetimeIndex: 1115 entries, 2001-07-20 to 2022-11-25\n",
      "Freq: 7D\n",
      "Data columns (total 14 columns):\n",
      " #   Column         Non-Null Count  Dtype  \n",
      "---  ------         --------------  -----  \n",
      " 0   Adj Close      1115 non-null   float64\n",
      " 1   High           1115 non-null   float64\n",
      " 2   Low            1115 non-null   float64\n",
      " 3   vix_return     1115 non-null   float64\n",
      " 4   hsi_return     1115 non-null   float64\n",
      " 5   EWMV_2         1115 non-null   float64\n",
      " 6   ATR_2          1115 non-null   float64\n",
      " 7   ATR_4          1115 non-null   float64\n",
      " 8   DIV_2          1115 non-null   float64\n",
      " 9   DIV_4          1115 non-null   float64\n",
      " 10  hkd_return     1115 non-null   float64\n",
      " 11  us_vix_return  1115 non-null   float64\n",
      " 12  sp500_return   1115 non-null   float64\n",
      " 13  GTHKD2YR_Corp  1115 non-null   float64\n",
      "dtypes: float64(14)\n",
      "memory usage: 163.0 KB\n"
     ]
    }
   ],
   "source": [
    "X.info()"
   ]
  },
  {
   "cell_type": "code",
   "execution_count": 33,
   "id": "19add3d2",
   "metadata": {},
   "outputs": [
    {
     "data": {
      "text/plain": [
       "<AxesSubplot: >"
      ]
     },
     "execution_count": 33,
     "metadata": {},
     "output_type": "execute_result"
    },
    {
     "data": {
      "image/png": "[encoded data removed]",
      "text/plain": [
       "<Figure size 720x576 with 2 Axes>"
      ]
     },
     "metadata": {
      "needs_background": "light"
     },
     "output_type": "display_data"
    }
   ],
   "source": [
    "import seaborn as sns\n",
    "plt.figure(figsize=(10,8))\n",
    "sns.heatmap(X.corr(),annot=True,cmap='Blues_r')"
   ]
  },
  {
   "cell_type": "code",
   "execution_count": 34,
   "id": "d656f5ce",
   "metadata": {},
   "outputs": [
    {
     "data": {
      "text/html": [
       "<div>\n",
       "<style scoped>\n",
       "    .dataframe tbody tr th:only-of-type {\n",
       "        vertical-align: middle;\n",
       "    }\n",
       "\n",
       "    .dataframe tbody tr th {\n",
       "        vertical-align: top;\n",
       "    }\n",
       "\n",
       "    .dataframe thead th {\n",
       "        text-align: right;\n",
       "    }\n",
       "</style>\n",
       "<table border=\"1\" class=\"dataframe\">\n",
       "  <thead>\n",
       "    <tr style=\"text-align: right;\">\n",
       "      <th></th>\n",
       "      <th>Adj Close</th>\n",
       "      <th>High</th>\n",
       "      <th>Low</th>\n",
       "      <th>vix_return</th>\n",
       "      <th>hsi_return</th>\n",
       "      <th>EWMV_2</th>\n",
       "      <th>ATR_2</th>\n",
       "      <th>ATR_4</th>\n",
       "      <th>DIV_2</th>\n",
       "      <th>DIV_4</th>\n",
       "      <th>hkd_return</th>\n",
       "      <th>us_vix_return</th>\n",
       "      <th>sp500_return</th>\n",
       "      <th>GTHKD2YR_Corp</th>\n",
       "    </tr>\n",
       "  </thead>\n",
       "  <tbody>\n",
       "    <tr>\n",
       "      <th>2001-07-20</th>\n",
       "      <td>0.048801</td>\n",
       "      <td>0.008581</td>\n",
       "      <td>0.090030</td>\n",
       "      <td>0.196701</td>\n",
       "      <td>-0.861352</td>\n",
       "      <td>-1.164028</td>\n",
       "      <td>-0.436719</td>\n",
       "      <td>-0.855887</td>\n",
       "      <td>-0.379230</td>\n",
       "      <td>-0.376360</td>\n",
       "      <td>-0.000719</td>\n",
       "      <td>0.387654</td>\n",
       "      <td>-0.201961</td>\n",
       "      <td>2.070104</td>\n",
       "    </tr>\n",
       "    <tr>\n",
       "      <th>2001-07-27</th>\n",
       "      <td>0.145423</td>\n",
       "      <td>0.104253</td>\n",
       "      <td>0.187730</td>\n",
       "      <td>0.345203</td>\n",
       "      <td>-0.342859</td>\n",
       "      <td>-0.710197</td>\n",
       "      <td>-0.799058</td>\n",
       "      <td>-0.834578</td>\n",
       "      <td>-0.579078</td>\n",
       "      <td>-0.395183</td>\n",
       "      <td>-0.000719</td>\n",
       "      <td>-0.107433</td>\n",
       "      <td>-0.209222</td>\n",
       "      <td>1.995039</td>\n",
       "    </tr>\n",
       "    <tr>\n",
       "      <th>2001-08-03</th>\n",
       "      <td>-0.080028</td>\n",
       "      <td>-0.118980</td>\n",
       "      <td>-0.040235</td>\n",
       "      <td>-0.834667</td>\n",
       "      <td>0.232145</td>\n",
       "      <td>-0.018080</td>\n",
       "      <td>-0.859327</td>\n",
       "      <td>-0.763340</td>\n",
       "      <td>-0.246014</td>\n",
       "      <td>-0.241819</td>\n",
       "      <td>-0.056027</td>\n",
       "      <td>-0.707370</td>\n",
       "      <td>0.238722</td>\n",
       "      <td>2.014793</td>\n",
       "    </tr>\n",
       "    <tr>\n",
       "      <th>2001-08-10</th>\n",
       "      <td>0.143275</td>\n",
       "      <td>0.102127</td>\n",
       "      <td>0.185559</td>\n",
       "      <td>0.822619</td>\n",
       "      <td>-1.437637</td>\n",
       "      <td>-1.357945</td>\n",
       "      <td>-0.315238</td>\n",
       "      <td>-0.656001</td>\n",
       "      <td>0.594488</td>\n",
       "      <td>-0.095879</td>\n",
       "      <td>0.036168</td>\n",
       "      <td>0.229278</td>\n",
       "      <td>-0.846797</td>\n",
       "      <td>1.927085</td>\n",
       "    </tr>\n",
       "    <tr>\n",
       "      <th>2001-08-17</th>\n",
       "      <td>0.311826</td>\n",
       "      <td>0.269020</td>\n",
       "      <td>0.355989</td>\n",
       "      <td>0.574156</td>\n",
       "      <td>-0.042017</td>\n",
       "      <td>-0.491869</td>\n",
       "      <td>-0.558711</td>\n",
       "      <td>-0.835386</td>\n",
       "      <td>0.526474</td>\n",
       "      <td>-0.131314</td>\n",
       "      <td>0.036166</td>\n",
       "      <td>1.042351</td>\n",
       "      <td>-1.000606</td>\n",
       "      <td>1.862292</td>\n",
       "    </tr>\n",
       "    <tr>\n",
       "      <th>...</th>\n",
       "      <td>...</td>\n",
       "      <td>...</td>\n",
       "      <td>...</td>\n",
       "      <td>...</td>\n",
       "      <td>...</td>\n",
       "      <td>...</td>\n",
       "      <td>...</td>\n",
       "      <td>...</td>\n",
       "      <td>...</td>\n",
       "      <td>...</td>\n",
       "      <td>...</td>\n",
       "      <td>...</td>\n",
       "      <td>...</td>\n",
       "      <td>...</td>\n",
       "    </tr>\n",
       "    <tr>\n",
       "      <th>2022-10-28</th>\n",
       "      <td>1.838448</td>\n",
       "      <td>1.917756</td>\n",
       "      <td>1.378575</td>\n",
       "      <td>1.113895</td>\n",
       "      <td>-2.969072</td>\n",
       "      <td>-3.270020</td>\n",
       "      <td>1.069235</td>\n",
       "      <td>1.241131</td>\n",
       "      <td>0.097217</td>\n",
       "      <td>0.773091</td>\n",
       "      <td>0.066167</td>\n",
       "      <td>-0.998958</td>\n",
       "      <td>1.505623</td>\n",
       "      <td>2.313473</td>\n",
       "    </tr>\n",
       "    <tr>\n",
       "      <th>2022-11-04</th>\n",
       "      <td>1.628028</td>\n",
       "      <td>1.735981</td>\n",
       "      <td>1.488216</td>\n",
       "      <td>-0.461109</td>\n",
       "      <td>2.843555</td>\n",
       "      <td>1.584896</td>\n",
       "      <td>2.813865</td>\n",
       "      <td>2.092369</td>\n",
       "      <td>1.155794</td>\n",
       "      <td>0.996546</td>\n",
       "      <td>0.041436</td>\n",
       "      <td>-0.334711</td>\n",
       "      <td>-1.402386</td>\n",
       "      <td>2.471505</td>\n",
       "    </tr>\n",
       "    <tr>\n",
       "      <th>2022-11-11</th>\n",
       "      <td>1.582937</td>\n",
       "      <td>1.617986</td>\n",
       "      <td>1.253737</td>\n",
       "      <td>-0.103662</td>\n",
       "      <td>2.361243</td>\n",
       "      <td>2.749546</td>\n",
       "      <td>2.473356</td>\n",
       "      <td>2.094274</td>\n",
       "      <td>1.093692</td>\n",
       "      <td>1.441203</td>\n",
       "      <td>-0.400267</td>\n",
       "      <td>-0.605491</td>\n",
       "      <td>2.246539</td>\n",
       "      <td>2.319004</td>\n",
       "    </tr>\n",
       "    <tr>\n",
       "      <th>2022-11-18</th>\n",
       "      <td>1.318838</td>\n",
       "      <td>1.488298</td>\n",
       "      <td>1.373148</td>\n",
       "      <td>-0.620246</td>\n",
       "      <td>1.277082</td>\n",
       "      <td>2.118018</td>\n",
       "      <td>1.604088</td>\n",
       "      <td>2.611248</td>\n",
       "      <td>-0.317705</td>\n",
       "      <td>1.704629</td>\n",
       "      <td>-1.737950</td>\n",
       "      <td>0.184719</td>\n",
       "      <td>-0.319925</td>\n",
       "      <td>2.355351</td>\n",
       "    </tr>\n",
       "    <tr>\n",
       "      <th>2022-11-25</th>\n",
       "      <td>0.760580</td>\n",
       "      <td>0.763322</td>\n",
       "      <td>0.790208</td>\n",
       "      <td>-1.466306</td>\n",
       "      <td>-0.813125</td>\n",
       "      <td>-0.058506</td>\n",
       "      <td>0.693082</td>\n",
       "      <td>1.872124</td>\n",
       "      <td>0.437556</td>\n",
       "      <td>2.202345</td>\n",
       "      <td>-1.662932</td>\n",
       "      <td>-0.843849</td>\n",
       "      <td>0.564829</td>\n",
       "      <td>2.428836</td>\n",
       "    </tr>\n",
       "  </tbody>\n",
       "</table>\n",
       "<p>1115 rows × 14 columns</p>\n",
       "</div>"
      ],
      "text/plain": [
       "            Adj Close      High       Low  vix_return  hsi_return    EWMV_2  \\\n",
       "2001-07-20   0.048801  0.008581  0.090030    0.196701   -0.861352 -1.164028   \n",
       "2001-07-27   0.145423  0.104253  0.187730    0.345203   -0.342859 -0.710197   \n",
       "2001-08-03  -0.080028 -0.118980 -0.040235   -0.834667    0.232145 -0.018080   \n",
       "2001-08-10   0.143275  0.102127  0.185559    0.822619   -1.437637 -1.357945   \n",
       "2001-08-17   0.311826  0.269020  0.355989    0.574156   -0.042017 -0.491869   \n",
       "...               ...       ...       ...         ...         ...       ...   \n",
       "2022-10-28   1.838448  1.917756  1.378575    1.113895   -2.969072 -3.270020   \n",
       "2022-11-04   1.628028  1.735981  1.488216   -0.461109    2.843555  1.584896   \n",
       "2022-11-11   1.582937  1.617986  1.253737   -0.103662    2.361243  2.749546   \n",
       "2022-11-18   1.318838  1.488298  1.373148   -0.620246    1.277082  2.118018   \n",
       "2022-11-25   0.760580  0.763322  0.790208   -1.466306   -0.813125 -0.058506   \n",
       "\n",
       "               ATR_2     ATR_4     DIV_2     DIV_4  hkd_return  us_vix_return  \\\n",
       "2001-07-20 -0.436719 -0.855887 -0.379230 -0.376360   -0.000719       0.387654   \n",
       "2001-07-27 -0.799058 -0.834578 -0.579078 -0.395183   -0.000719      -0.107433   \n",
       "2001-08-03 -0.859327 -0.763340 -0.246014 -0.241819   -0.056027      -0.707370   \n",
       "2001-08-10 -0.315238 -0.656001  0.594488 -0.095879    0.036168       0.229278   \n",
       "2001-08-17 -0.558711 -0.835386  0.526474 -0.131314    0.036166       1.042351   \n",
       "...              ...       ...       ...       ...         ...            ...   \n",
       "2022-10-28  1.069235  1.241131  0.097217  0.773091    0.066167      -0.998958   \n",
       "2022-11-04  2.813865  2.092369  1.155794  0.996546    0.041436      -0.334711   \n",
       "2022-11-11  2.473356  2.094274  1.093692  1.441203   -0.400267      -0.605491   \n",
       "2022-11-18  1.604088  2.611248 -0.317705  1.704629   -1.737950       0.184719   \n",
       "2022-11-25  0.693082  1.872124  0.437556  2.202345   -1.662932      -0.843849   \n",
       "\n",
       "            sp500_return  GTHKD2YR_Corp  \n",
       "2001-07-20     -0.201961       2.070104  \n",
       "2001-07-27     -0.209222       1.995039  \n",
       "2001-08-03      0.238722       2.014793  \n",
       "2001-08-10     -0.846797       1.927085  \n",
       "2001-08-17     -1.000606       1.862292  \n",
       "...                  ...            ...  \n",
       "2022-10-28      1.505623       2.313473  \n",
       "2022-11-04     -1.402386       2.471505  \n",
       "2022-11-11      2.246539       2.319004  \n",
       "2022-11-18     -0.319925       2.355351  \n",
       "2022-11-25      0.564829       2.428836  \n",
       "\n",
       "[1115 rows x 14 columns]"
      ]
     },
     "execution_count": 34,
     "metadata": {},
     "output_type": "execute_result"
    }
   ],
   "source": [
    "scaler = StandardScaler()\n",
    "scaled_X = pd.DataFrame(scaler.fit_transform(X),index = X.index,columns=X.columns)\n",
    "scaled_X"
   ]
  },
  {
   "cell_type": "markdown",
   "id": "27e16fe2",
   "metadata": {},
   "source": [
    "### Train validation test"
   ]
  },
  {
   "cell_type": "code",
   "execution_count": 35,
   "id": "02ac364f",
   "metadata": {},
   "outputs": [],
   "source": [
    "# train and test\n",
    "split_date_1 = dt.datetime(2018,6,29)\n",
    "split_date_2 = dt.datetime(2018,7,6)\n",
    "X_train, X_test = scaled_X.loc[:split_date_1,:], scaled_X.loc[split_date_2:,:]\n",
    "Y_train, Y_test = Y[:split_date_1], Y[split_date_2:]\n",
    "# train and validation\n",
    "split_date_1 = dt.datetime(2014,4,4)\n",
    "split_date_2 = dt.datetime(2014,4,11)\n",
    "X_train_v, X_validation = X_train.loc[:split_date_1,:], X_train.loc[split_date_2:,:]\n",
    "Y_train_v, Y_validation = Y_train.loc[:split_date_1], Y_train.loc[split_date_2:]"
   ]
  },
  {
   "cell_type": "code",
   "execution_count": 36,
   "id": "3b2b1cea",
   "metadata": {},
   "outputs": [],
   "source": [
    "from sklearn.model_selection import TimeSeriesSplit\n",
    "from sklearn.model_selection import GridSearchCV"
   ]
  },
  {
   "cell_type": "code",
   "execution_count": 108,
   "id": "e87d76fd",
   "metadata": {},
   "outputs": [],
   "source": [
    "names = []\n",
    "is_accuracy = []\n",
    "os_accuracy = []\n",
    "is_gmeanf1 = []\n",
    "os_gmeanf1 = []"
   ]
  },
  {
   "cell_type": "markdown",
   "id": "5af0621e",
   "metadata": {},
   "source": [
    "### Decision Tree"
   ]
  },
  {
   "cell_type": "code",
   "execution_count": 38,
   "id": "43434cc6",
   "metadata": {},
   "outputs": [],
   "source": [
    "from sklearn.tree import DecisionTreeClassifier "
   ]
  },
  {
   "cell_type": "code",
   "execution_count": 24,
   "id": "a647a8f5",
   "metadata": {},
   "outputs": [
    {
     "name": "stdout",
     "output_type": "stream",
     "text": [
      "Best parameters：{'max_depth': 4, 'min_samples_leaf': 1, 'min_samples_split': 2}\n",
      "Score:0.5723981900452488\n"
     ]
    }
   ],
   "source": [
    "# my_cv = TimeSeriesSplit(n_splits=2).split(X_train_v)\n",
    "# cv_params = { 'min_samples_split': [2, 3, 4], 'max_depth': np.arange(3,15),\n",
    "#                  'min_samples_leaf': [1,2,3,4]}\n",
    "# model = DecisionTreeClassifier()\n",
    "# optimized_DT = GridSearchCV(estimator=model, param_grid=cv_params, scoring='accuracy', cv=my_cv)\n",
    "# optimized_DT.fit(np.array(X_train_v), np.array(Y_train_v))\n",
    "# model = optimized_DT.best_estimator_\n",
    "# print('Best parameters：{0}'.format(optimized_DT.best_params_))\n",
    "# print('Score:{0}'.format(optimized_DT.best_score_))"
   ]
  },
  {
   "cell_type": "code",
   "execution_count": 39,
   "id": "59070b07",
   "metadata": {},
   "outputs": [],
   "source": [
    "DT = DecisionTreeClassifier(max_depth=4,min_samples_leaf=1,min_samples_split=2).fit(X_train_v, Y_train_v)"
   ]
  },
  {
   "cell_type": "code",
   "execution_count": 40,
   "id": "fa33a366",
   "metadata": {},
   "outputs": [
    {
     "name": "stdout",
     "output_type": "stream",
     "text": [
      "DT accuarcy in sample: 0.6385542168674698\n",
      "DT accuarcy out sample: 0.5610859728506787\n"
     ]
    }
   ],
   "source": [
    "y_pred_DT_is = DT.predict(X_train_v)\n",
    "y_pred_DT_os = DT.predict(X_validation)\n",
    "accuracy_DT_is = metrics.accuracy_score(Y_train_v, y_pred_DT_is)\n",
    "accuracy_DT_os = metrics.accuracy_score(Y_validation, y_pred_DT_os)\n",
    "print(\"DT accuarcy in sample:\",accuracy_DT_is)\n",
    "print(\"DT accuarcy out sample:\",accuracy_DT_os)"
   ]
  },
  {
   "cell_type": "code",
   "execution_count": 41,
   "id": "98f7c113",
   "metadata": {},
   "outputs": [
    {
     "name": "stdout",
     "output_type": "stream",
     "text": [
      "DT gmean f1 in sample: 0.5823263898344692\n",
      "DT gmean f1 out sample: 0.5174982104010569\n"
     ]
    }
   ],
   "source": [
    "g_mean_f1_DT_is = g_mean_f1(Y_train_v, y_pred_DT_is)\n",
    "g_mean_f1_DT_os = g_mean_f1(Y_validation, y_pred_DT_os)\n",
    "print(\"DT gmean f1 in sample:\",g_mean_f1_DT_is)\n",
    "print(\"DT gmean f1 out sample:\",g_mean_f1_DT_os)"
   ]
  },
  {
   "cell_type": "code",
   "execution_count": 109,
   "id": "230b41e2",
   "metadata": {},
   "outputs": [],
   "source": [
    "names.append('DT')\n",
    "is_accuracy.append(accuracy_DT_is)\n",
    "os_accuracy.append(accuracy_DT_os)\n",
    "is_gmeanf1.append(g_mean_f1_DT_is)\n",
    "os_gmeanf1.append(g_mean_f1_DT_os)"
   ]
  },
  {
   "cell_type": "markdown",
   "id": "dc26916a",
   "metadata": {},
   "source": [
    "### Random Forest"
   ]
  },
  {
   "cell_type": "code",
   "execution_count": 43,
   "id": "23f4a784",
   "metadata": {},
   "outputs": [],
   "source": [
    "from sklearn.ensemble import RandomForestClassifier"
   ]
  },
  {
   "cell_type": "code",
   "execution_count": 146,
   "id": "484a294a",
   "metadata": {},
   "outputs": [
    {
     "name": "stdout",
     "output_type": "stream",
     "text": [
      "Best parameters：{'max_depth': 6, 'max_features': 'auto', 'min_samples_leaf': 3, 'min_samples_split': 2, 'n_estimators': 25}\n",
      "Score:0.5859728506787331\n"
     ]
    }
   ],
   "source": [
    "# my_cv = TimeSeriesSplit(n_splits=2).split(X_train_v)\n",
    "# cv_params = { 'n_estimators':[25,50,100,200],'min_samples_split': [2, 3, 4], 'max_depth': np.arange(3,13),\n",
    "#                  'min_samples_leaf': [1,2,3],'max_features':[\"auto\", \"sqrt\", \"log2\"]}\n",
    "# model = RandomForestClassifier()\n",
    "# optimized_RF = GridSearchCV(estimator=model, param_grid=cv_params, scoring='accuracy', cv=my_cv)\n",
    "# optimized_RF.fit(np.array(X_train_v), np.array(Y_train_v))\n",
    "# print('Best parameters：{0}'.format(optimized_RF.best_params_))\n",
    "# print('Score:{0}'.format(optimized_RF.best_score_))"
   ]
  },
  {
   "cell_type": "code",
   "execution_count": 102,
   "id": "9999900a",
   "metadata": {},
   "outputs": [],
   "source": [
    "RF= RandomForestClassifier(n_estimators=25,  max_features=\"auto\", max_depth=6,\n",
    "                           min_samples_leaf=3, min_samples_split=2).fit(X_train_v,Y_train_v)"
   ]
  },
  {
   "cell_type": "code",
   "execution_count": 103,
   "id": "e10ee2b9",
   "metadata": {},
   "outputs": [
    {
     "name": "stdout",
     "output_type": "stream",
     "text": [
      "RF accuarcy in sample: 0.8132530120481928\n",
      "RF accuarcy out sample: 0.5701357466063348\n"
     ]
    }
   ],
   "source": [
    "y_pred_RF_is = RF.predict(X_train_v)\n",
    "y_pred_RF_os = RF.predict(X_validation)\n",
    "accuracy_RF_is = metrics.accuracy_score(Y_train_v, y_pred_RF_is)\n",
    "accuracy_RF_os = metrics.accuracy_score(Y_validation, y_pred_RF_os)\n",
    "print(\"RF accuarcy in sample:\",accuracy_RF_is)\n",
    "print(\"RF accuarcy out sample:\",accuracy_RF_os)"
   ]
  },
  {
   "cell_type": "code",
   "execution_count": 104,
   "id": "4b1cc9cb",
   "metadata": {},
   "outputs": [
    {
     "name": "stdout",
     "output_type": "stream",
     "text": [
      "RF gmean f1 in sample: 0.8061932020251701\n",
      "RF gmean f1 out sample: 0.5699417420664312\n"
     ]
    }
   ],
   "source": [
    "g_mean_f1_RF_is = g_mean_f1(Y_train_v, y_pred_RF_is)\n",
    "g_mean_f1_RF_os = g_mean_f1(Y_validation, y_pred_RF_os)\n",
    "print(\"RF gmean f1 in sample:\",g_mean_f1_RF_is)\n",
    "print(\"RF gmean f1 out sample:\",g_mean_f1_RF_os)"
   ]
  },
  {
   "cell_type": "code",
   "execution_count": 110,
   "id": "f6164bdd",
   "metadata": {},
   "outputs": [],
   "source": [
    "names.append('RF')\n",
    "is_accuracy.append(accuracy_RF_is)\n",
    "os_accuracy.append(accuracy_RF_os)\n",
    "is_gmeanf1.append(g_mean_f1_RF_is)\n",
    "os_gmeanf1.append(g_mean_f1_RF_os)"
   ]
  },
  {
   "cell_type": "markdown",
   "id": "76320a2e",
   "metadata": {},
   "source": [
    "### Extremely Randomized Trees"
   ]
  },
  {
   "cell_type": "code",
   "execution_count": 48,
   "id": "3358e838",
   "metadata": {},
   "outputs": [],
   "source": [
    "from sklearn.ensemble import ExtraTreesClassifier"
   ]
  },
  {
   "cell_type": "code",
   "execution_count": 36,
   "id": "b733c28c",
   "metadata": {},
   "outputs": [
    {
     "name": "stdout",
     "output_type": "stream",
     "text": [
      "Best parameters：{'max_depth': 7, 'max_features': 'sqrt', 'min_samples_leaf': 3, 'min_samples_split': 2, 'n_estimators': 50}\n",
      "Score:0.5995475113122173\n"
     ]
    }
   ],
   "source": [
    "# my_cv = TimeSeriesSplit(n_splits=2).split(X_train_v)\n",
    "# cv_params = {'n_estimators':[25,50,100,200],'min_samples_split': [2, 3, 4], 'max_depth': np.arange(3,13),\n",
    "#                  'min_samples_leaf': [1,2,3],'max_features':[\"auto\", \"sqrt\", \"log2\"]}\n",
    "# model = ExtraTreesClassifier()\n",
    "# optimized_ETC = GridSearchCV(estimator=model, param_grid=cv_params, scoring='accuracy', cv=my_cv)\n",
    "# optimized_ETC.fit(np.array(X_train_v), np.array(Y_train_v))\n",
    "# print('Best parameters：{0}'.format(optimized_ETC.best_params_))\n",
    "# print('Score:{0}'.format(optimized_ETC.best_score_))"
   ]
  },
  {
   "cell_type": "code",
   "execution_count": 105,
   "id": "83edfba5",
   "metadata": {},
   "outputs": [],
   "source": [
    "ETC= ExtraTreesClassifier(n_estimators=50, \n",
    "                          max_depth=7,\n",
    "                          max_features='sqrt',\n",
    "                          min_samples_leaf=3,\n",
    "                          min_samples_split=2).fit(X_train_v,Y_train_v.values.ravel())"
   ]
  },
  {
   "cell_type": "code",
   "execution_count": 106,
   "id": "64e2f80c",
   "metadata": {},
   "outputs": [
    {
     "name": "stdout",
     "output_type": "stream",
     "text": [
      "ETC accuarcy in sample: 0.75\n",
      "ETC accuarcy out sample: 0.5656108597285068\n"
     ]
    }
   ],
   "source": [
    "y_pred_ETC_is = ETC.predict(X_train_v)\n",
    "y_pred_ETC_os = ETC.predict(X_validation)\n",
    "accuracy_ETC_is = metrics.accuracy_score(Y_train_v, y_pred_ETC_is)\n",
    "accuracy_ETC_os = metrics.accuracy_score(Y_validation, y_pred_ETC_os)\n",
    "print(\"ETC accuarcy in sample:\",accuracy_ETC_is)\n",
    "print(\"ETC accuarcy out sample:\",accuracy_ETC_os)"
   ]
  },
  {
   "cell_type": "code",
   "execution_count": 107,
   "id": "abe832d6",
   "metadata": {},
   "outputs": [
    {
     "name": "stdout",
     "output_type": "stream",
     "text": [
      "ETC gmean f1 in sample: 0.7358888346109168\n",
      "ETC gmean f1 out sample: 0.5577634353164503\n"
     ]
    }
   ],
   "source": [
    "g_mean_f1_ETC_is = g_mean_f1(Y_train_v, y_pred_ETC_is)\n",
    "g_mean_f1_ETC_os = g_mean_f1(Y_validation, y_pred_ETC_os)\n",
    "print(\"ETC gmean f1 in sample:\",g_mean_f1_ETC_is)\n",
    "print(\"ETC gmean f1 out sample:\",g_mean_f1_ETC_os)"
   ]
  },
  {
   "cell_type": "code",
   "execution_count": 111,
   "id": "7eb614be",
   "metadata": {},
   "outputs": [],
   "source": [
    "names.append('ETC')\n",
    "is_accuracy.append(accuracy_ETC_is)\n",
    "os_accuracy.append(accuracy_ETC_os)\n",
    "is_gmeanf1.append(g_mean_f1_ETC_is)\n",
    "os_gmeanf1.append(g_mean_f1_ETC_os)"
   ]
  },
  {
   "cell_type": "markdown",
   "id": "efe5763b",
   "metadata": {},
   "source": [
    "### AdaBoost"
   ]
  },
  {
   "cell_type": "code",
   "execution_count": 53,
   "id": "837cfd35",
   "metadata": {},
   "outputs": [],
   "source": [
    "from sklearn.ensemble import AdaBoostClassifier"
   ]
  },
  {
   "cell_type": "code",
   "execution_count": 42,
   "id": "193a8da3",
   "metadata": {},
   "outputs": [
    {
     "name": "stdout",
     "output_type": "stream",
     "text": [
      "Best parameters：{'algorithm': 'SAMME.R', 'base_estimator__max_depth': 3, 'base_estimator__min_samples_leaf': 2, 'base_estimator__min_samples_split': 3, 'learning_rate': 0.1, 'n_estimators': 100}\n",
      "Score:0.5859728506787331\n"
     ]
    }
   ],
   "source": [
    "# my_cv = TimeSeriesSplit(n_splits=2).split(X_train_v)\n",
    "# cv_params = {'n_estimators':[25,50,100,200],'learning_rate': np.linspace(0.1,1,10),'algorithm':['SAMME','SAMME.R'],\n",
    "#             'base_estimator__min_samples_split': [2, 3, 4], 'base_estimator__max_depth': np.arange(1,5),\n",
    "#                  'base_estimator__min_samples_leaf': [1,2,3]}\n",
    "# base_estimator=DecisionTreeClassifier()\n",
    "# model = AdaBoostClassifier(base_estimator=base_estimator)\n",
    "# optimized_ADB = GridSearchCV(estimator=model, param_grid=cv_params, scoring='accuracy', cv=my_cv)\n",
    "# optimized_ADB.fit(np.array(X_train_v), np.array(Y_train_v))\n",
    "# print('Best parameters：{0}'.format(optimized_ADB.best_params_))\n",
    "# print('Score:{0}'.format(optimized_ADB.best_score_))"
   ]
  },
  {
   "cell_type": "code",
   "execution_count": 54,
   "id": "94d5f99f",
   "metadata": {},
   "outputs": [],
   "source": [
    "base_estimator=DecisionTreeClassifier(max_depth=3,min_samples_leaf=2,min_samples_split=3)\n",
    "ADB = AdaBoostClassifier(n_estimators=100, algorithm= 'SAMME.R',learning_rate=0.1,base_estimator=base_estimator).fit(X_train_v,Y_train_v)"
   ]
  },
  {
   "cell_type": "code",
   "execution_count": 55,
   "id": "e381518d",
   "metadata": {},
   "outputs": [
    {
     "name": "stdout",
     "output_type": "stream",
     "text": [
      "ADB accuarcy in sample: 0.9819277108433735\n",
      "ADB accuarcy out sample: 0.5520361990950227\n"
     ]
    }
   ],
   "source": [
    "y_pred_ADB_is = ADB.predict(X_train_v)\n",
    "y_pred_ADB_os = ADB.predict(X_validation)\n",
    "accuracy_ADB_is = metrics.accuracy_score(Y_train_v, y_pred_ADB_is)\n",
    "accuracy_ADB_os = metrics.accuracy_score(Y_validation, y_pred_ADB_os)\n",
    "print(\"ADB accuarcy in sample:\",accuracy_ADB_is)\n",
    "print(\"ADB accuarcy out sample:\",accuracy_ADB_os)"
   ]
  },
  {
   "cell_type": "code",
   "execution_count": 112,
   "id": "00829aa8",
   "metadata": {},
   "outputs": [
    {
     "name": "stdout",
     "output_type": "stream",
     "text": [
      "ADB gmean f1 in sample: 0.9818397519501355\n",
      "ADB gmean f1 out sample: 0.550170928529125\n"
     ]
    }
   ],
   "source": [
    "g_mean_f1_ADB_is = g_mean_f1(Y_train_v, y_pred_ADB_is)\n",
    "g_mean_f1_ADB_os = g_mean_f1(Y_validation, y_pred_ADB_os)\n",
    "print(\"ADB gmean f1 in sample:\",g_mean_f1_ADB_is)\n",
    "print(\"ADB gmean f1 out sample:\",g_mean_f1_ADB_os)"
   ]
  },
  {
   "cell_type": "code",
   "execution_count": 113,
   "id": "4427e314",
   "metadata": {},
   "outputs": [],
   "source": [
    "names.append('ADB')\n",
    "is_accuracy.append(accuracy_ADB_is)\n",
    "os_accuracy.append(accuracy_ADB_os)\n",
    "is_gmeanf1.append(g_mean_f1_ADB_is)\n",
    "os_gmeanf1.append(g_mean_f1_ADB_os)"
   ]
  },
  {
   "cell_type": "markdown",
   "id": "a6444285",
   "metadata": {},
   "source": [
    "### XGBoost"
   ]
  },
  {
   "cell_type": "code",
   "execution_count": 58,
   "id": "3e8a5507",
   "metadata": {},
   "outputs": [],
   "source": [
    "from xgboost import XGBClassifier\n",
    "Y_xgbc_train_v = Y_train_v.apply(lambda x:np.where(x==-1,0,x))\n",
    "Y_xgbc_validation = Y_validation.apply(lambda x:np.where(x==-1,0,x))"
   ]
  },
  {
   "cell_type": "code",
   "execution_count": 149,
   "id": "f0feb393",
   "metadata": {},
   "outputs": [
    {
     "name": "stdout",
     "output_type": "stream",
     "text": [
      "Best parameters：{'gamma': 1, 'learning_rate': 1, 'max_depth': 5, 'min_child_weight': 6, 'n_estimators': 50, 'reg_alpha': 0.3, 'reg_lambda': 0.3}\n",
      "Score:0.5972850678733032\n"
     ]
    }
   ],
   "source": [
    "# my_cv = TimeSeriesSplit(n_splits=2).split(X_train_v)\n",
    "# cv_params = {'n_estimators': [25,50,100,200], 'learning_rate': [0.01, 0.1, 0.5, 1], 'max_depth': np.arange(3,13),\n",
    "#                  'min_child_weight': [4, 5, 6], 'gamma': [1, 3], 'reg_alpha': [0.1, 0.3,0.5],\"reg_lambda\": [0.3,0.5,0.7,0.9]}\n",
    "# other_params = {'learning_rate': 0.1, 'n_estimators': 90, 'max_depth': 7, 'min_child_weight': 4,\n",
    "#                      'gamma': 1, 'reg_alpha': 0.1, \"reg_lambda\": 0.9}\n",
    "# model = XGBClassifier()\n",
    "# optimized_XGBC = GridSearchCV(estimator=model, param_grid=cv_params, scoring='accuracy', cv=my_cv)\n",
    "# optimized_XGBC.fit(np.array(X_train_v), np.array(Y_xgbc_train_v))\n",
    "# print('Best parameters：{0}'.format(optimized_XGBC.best_params_))\n",
    "# print('Score:{0}'.format(optimized_XGBC.best_score_))"
   ]
  },
  {
   "cell_type": "code",
   "execution_count": 62,
   "id": "8492cc1d",
   "metadata": {},
   "outputs": [],
   "source": [
    "XGBC = XGBClassifier(learning_rate= 1,\n",
    "                     n_estimators=50,\n",
    "                     max_depth= 5, \n",
    "                     min_child_weight=6, \n",
    "                     gamma=1, \n",
    "                     reg_alpha= 0.3,\n",
    "                     reg_lambda=0.3).fit(np.array(X_train_v), np.array(Y_xgbc_train_v))"
   ]
  },
  {
   "cell_type": "code",
   "execution_count": 63,
   "id": "5468847a",
   "metadata": {},
   "outputs": [
    {
     "name": "stdout",
     "output_type": "stream",
     "text": [
      "XGBC accuarcy in sample: 0.9849397590361446\n",
      "XGBC accuarcy out sample: 0.5294117647058824\n"
     ]
    }
   ],
   "source": [
    "y_pred_XGBC_is = XGBC.predict(X_train_v)\n",
    "y_pred_XGBC_is = np.where(y_pred_XGBC_is==0,-1,y_pred_XGBC_is)\n",
    "y_pred_XGBC_os = XGBC.predict(X_validation)\n",
    "y_pred_XGBC_os = np.where(y_pred_XGBC_os==0,-1,y_pred_XGBC_os)\n",
    "accuracy_XGBC_is = metrics.accuracy_score(Y_train_v, y_pred_XGBC_is)\n",
    "accuracy_XGBC_os = metrics.accuracy_score(Y_validation, y_pred_XGBC_os)\n",
    "print(\"XGBC accuarcy in sample:\",accuracy_XGBC_is)\n",
    "print(\"XGBC accuarcy out sample:\",accuracy_XGBC_os)"
   ]
  },
  {
   "cell_type": "code",
   "execution_count": 64,
   "id": "908518bc",
   "metadata": {},
   "outputs": [
    {
     "name": "stdout",
     "output_type": "stream",
     "text": [
      "XGBC gmean f1 in sample: 0.9848844858490768\n",
      "XGBC gmean f1 out sample: 0.5277208795994232\n"
     ]
    }
   ],
   "source": [
    "g_mean_f1_XGBC_is = g_mean_f1(Y_train_v, y_pred_XGBC_is)\n",
    "g_mean_f1_XGBC_os = g_mean_f1(Y_validation, y_pred_XGBC_os)\n",
    "print(\"XGBC gmean f1 in sample:\",g_mean_f1_XGBC_is)\n",
    "print(\"XGBC gmean f1 out sample:\",g_mean_f1_XGBC_os)"
   ]
  },
  {
   "cell_type": "code",
   "execution_count": 114,
   "id": "b7ab8241",
   "metadata": {},
   "outputs": [],
   "source": [
    "names.append('XGBC')\n",
    "is_accuracy.append(accuracy_XGBC_is)\n",
    "os_accuracy.append(accuracy_XGBC_os)\n",
    "is_gmeanf1.append(g_mean_f1_XGBC_is)\n",
    "os_gmeanf1.append(g_mean_f1_XGBC_os)"
   ]
  },
  {
   "cell_type": "markdown",
   "id": "b5eb3a92",
   "metadata": {},
   "source": [
    "### Model Comparison"
   ]
  },
  {
   "cell_type": "code",
   "execution_count": 115,
   "id": "5d389f94",
   "metadata": {},
   "outputs": [
    {
     "data": {
      "image/png": "[encoded data removed]",
      "text/plain": [
       "<Figure size 1008x576 with 1 Axes>"
      ]
     },
     "metadata": {
      "needs_background": "light"
     },
     "output_type": "display_data"
    }
   ],
   "source": [
    "plt.figure(figsize = (14,8))\n",
    "\n",
    "accuracy_df =pd.DataFrame({'name':names,'accuracy_is':is_accuracy,'accuracy_os':os_accuracy}).set_index('name')\n",
    "x_axis = np.arange(len(accuracy_df))\n",
    "\n",
    "barplot_is_accuarcy = plt.bar(x_axis-0.2, accuracy_df['accuracy_is'], 0.4, label='in sample accuarcy',color='red')\n",
    "barplot_os_accuarcy = plt.bar(x_axis+0.2, accuracy_df['accuracy_os'], 0.4, label='out sample accuarcy',color='blue')\n",
    "\n",
    "plt.bar_label(barplot_is_accuarcy, labels = np.round(accuracy_df['accuracy_is'],3))\n",
    "plt.bar_label(barplot_os_accuarcy, labels = np.round(accuracy_df['accuracy_os'],3))\n",
    "\n",
    "plt.xticks(x_axis, accuracy_df.index)\n",
    "plt.xlabel(\"Models\", fontsize = 12, fontweight = \"bold\") \n",
    "plt.ylabel(\"Accuarcy\",fontsize = 12, fontweight = \"bold\")\n",
    "plt.title(\"Accuarcy Comparison\", fontsize = 12, fontweight = \"bold\")\n",
    "plt.legend()\n",
    "plt.show()"
   ]
  },
  {
   "cell_type": "code",
   "execution_count": 116,
   "id": "a813da99",
   "metadata": {},
   "outputs": [
    {
     "data": {
      "image/png": "[encoded data removed]",
      "text/plain": [
       "<Figure size 1008x576 with 1 Axes>"
      ]
     },
     "metadata": {
      "needs_background": "light"
     },
     "output_type": "display_data"
    }
   ],
   "source": [
    "plt.figure(figsize = (14,8))\n",
    "\n",
    "f1_df =pd.DataFrame({'name':names,'f1_is':is_gmeanf1,'f1_os':os_gmeanf1}).set_index('name')\n",
    "x_axis = np.arange(len(f1_df))\n",
    "\n",
    "barplot_is_f1 = plt.bar(x_axis-0.2, f1_df['f1_is'], 0.4, label='in sample gmean_f1',color='red')\n",
    "barplot_os_f1 = plt.bar(x_axis+0.2, f1_df['f1_os'], 0.4, label='out sample gmean_f1',color='blue')\n",
    "\n",
    "plt.bar_label(barplot_is_f1, labels = np.round(f1_df['f1_is'],3))\n",
    "plt.bar_label(barplot_os_f1, labels = np.round(f1_df['f1_os'],3))\n",
    "\n",
    "plt.xticks(x_axis, f1_df.index)\n",
    "plt.xlabel(\"Models\", fontsize = 12, fontweight = \"bold\") \n",
    "plt.ylabel(\"Gmean f1\",fontsize = 12, fontweight = \"bold\")\n",
    "plt.title(\"Gmean f1 Comparison\", fontsize = 12, fontweight = \"bold\")\n",
    "plt.legend()\n",
    "plt.show()"
   ]
  },
  {
   "cell_type": "markdown",
   "id": "f9cbbe4f",
   "metadata": {},
   "source": [
    "### Select Random Forest model"
   ]
  },
  {
   "cell_type": "code",
   "execution_count": 141,
   "id": "d2a28faf",
   "metadata": {},
   "outputs": [],
   "source": [
    "RF= RandomForestClassifier(n_estimators=25,  max_features=\"auto\", max_depth=6,\n",
    "                           min_samples_leaf=3, min_samples_split=2).fit(X_train,Y_train)"
   ]
  },
  {
   "cell_type": "code",
   "execution_count": 142,
   "id": "f21459b2",
   "metadata": {},
   "outputs": [
    {
     "name": "stdout",
     "output_type": "stream",
     "text": [
      "RF accuarcy in sample: 0.7988700564971751\n",
      "RF accuarcy out sample: 0.5851528384279476\n"
     ]
    }
   ],
   "source": [
    "y_pred_RF_is = RF.predict(X_train)\n",
    "y_pred_RF_os = RF.predict(X_test)\n",
    "accuracy_RF_is = metrics.accuracy_score(Y_train, y_pred_RF_is)\n",
    "accuracy_RF_os = metrics.accuracy_score(Y_test.dropna(), y_pred_RF_os[:-1])\n",
    "print(\"RF accuarcy in sample:\",accuracy_RF_is)\n",
    "print(\"RF accuarcy out sample:\",accuracy_RF_os)"
   ]
  },
  {
   "cell_type": "code",
   "execution_count": 143,
   "id": "fb76ca02",
   "metadata": {},
   "outputs": [
    {
     "name": "stdout",
     "output_type": "stream",
     "text": [
      "RF gmean f1 in sample: 0.7929503471164496\n",
      "RF gmean f1 out sample: 0.5354338612706726\n"
     ]
    }
   ],
   "source": [
    "g_mean_f1_RF_is = g_mean_f1(Y_train, y_pred_RF_is)\n",
    "g_mean_f1_RF_os = g_mean_f1(Y_test.dropna(), y_pred_RF_os[:-1])\n",
    "print(\"RF gmean f1 in sample:\",g_mean_f1_RF_is)\n",
    "print(\"RF gmean f1 out sample:\",g_mean_f1_RF_os)"
   ]
  },
  {
   "cell_type": "code",
   "execution_count": 144,
   "id": "0d4151cf",
   "metadata": {},
   "outputs": [
    {
     "data": {
      "image/png": "[encoded data removed]",
      "text/plain": [
       "<Figure size 1080x864 with 1 Axes>"
      ]
     },
     "metadata": {
      "needs_background": "light"
     },
     "output_type": "display_data"
    }
   ],
   "source": [
    "forest_importances = pd.Series(RF.feature_importances_,index=X_train.columns)\n",
    "forest_importances.sort_values(ascending=False,inplace=True)\n",
    "\n",
    "fig,ax=plt.subplots(figsize=(15,12))\n",
    "forest_importances.plot.bar(ax=ax)\n",
    "ax.set_title(\"Feature importances\",fontsize=20) \n",
    "ax.set_ylabel(\"Mean decrease in impurity\",fontsize=15)\n",
    "fig.tight_layout()"
   ]
  },
  {
   "cell_type": "markdown",
   "id": "51936dce",
   "metadata": {},
   "source": [
    "### predict result"
   ]
  },
  {
   "cell_type": "code",
   "execution_count": 145,
   "id": "bb9410e4",
   "metadata": {},
   "outputs": [
    {
     "data": {
      "text/html": [
       "<div>\n",
       "<style scoped>\n",
       "    .dataframe tbody tr th:only-of-type {\n",
       "        vertical-align: middle;\n",
       "    }\n",
       "\n",
       "    .dataframe tbody tr th {\n",
       "        vertical-align: top;\n",
       "    }\n",
       "\n",
       "    .dataframe thead th {\n",
       "        text-align: right;\n",
       "    }\n",
       "</style>\n",
       "<table border=\"1\" class=\"dataframe\">\n",
       "  <thead>\n",
       "    <tr style=\"text-align: right;\">\n",
       "      <th></th>\n",
       "      <th>actual</th>\n",
       "      <th>pred</th>\n",
       "    </tr>\n",
       "  </thead>\n",
       "  <tbody>\n",
       "    <tr>\n",
       "      <th>2018-07-06</th>\n",
       "      <td>-1.0</td>\n",
       "      <td>-1.0</td>\n",
       "    </tr>\n",
       "    <tr>\n",
       "      <th>2018-07-13</th>\n",
       "      <td>-1.0</td>\n",
       "      <td>-1.0</td>\n",
       "    </tr>\n",
       "    <tr>\n",
       "      <th>2018-07-20</th>\n",
       "      <td>-1.0</td>\n",
       "      <td>-1.0</td>\n",
       "    </tr>\n",
       "    <tr>\n",
       "      <th>2018-07-27</th>\n",
       "      <td>1.0</td>\n",
       "      <td>-1.0</td>\n",
       "    </tr>\n",
       "    <tr>\n",
       "      <th>2018-08-03</th>\n",
       "      <td>-1.0</td>\n",
       "      <td>-1.0</td>\n",
       "    </tr>\n",
       "    <tr>\n",
       "      <th>...</th>\n",
       "      <td>...</td>\n",
       "      <td>...</td>\n",
       "    </tr>\n",
       "    <tr>\n",
       "      <th>2022-10-28</th>\n",
       "      <td>-1.0</td>\n",
       "      <td>-1.0</td>\n",
       "    </tr>\n",
       "    <tr>\n",
       "      <th>2022-11-04</th>\n",
       "      <td>-1.0</td>\n",
       "      <td>-1.0</td>\n",
       "    </tr>\n",
       "    <tr>\n",
       "      <th>2022-11-11</th>\n",
       "      <td>-1.0</td>\n",
       "      <td>-1.0</td>\n",
       "    </tr>\n",
       "    <tr>\n",
       "      <th>2022-11-18</th>\n",
       "      <td>-1.0</td>\n",
       "      <td>-1.0</td>\n",
       "    </tr>\n",
       "    <tr>\n",
       "      <th>2022-11-25</th>\n",
       "      <td>NaN</td>\n",
       "      <td>-1.0</td>\n",
       "    </tr>\n",
       "  </tbody>\n",
       "</table>\n",
       "<p>230 rows × 2 columns</p>\n",
       "</div>"
      ],
      "text/plain": [
       "            actual  pred\n",
       "2018-07-06    -1.0  -1.0\n",
       "2018-07-13    -1.0  -1.0\n",
       "2018-07-20    -1.0  -1.0\n",
       "2018-07-27     1.0  -1.0\n",
       "2018-08-03    -1.0  -1.0\n",
       "...            ...   ...\n",
       "2022-10-28    -1.0  -1.0\n",
       "2022-11-04    -1.0  -1.0\n",
       "2022-11-11    -1.0  -1.0\n",
       "2022-11-18    -1.0  -1.0\n",
       "2022-11-25     NaN  -1.0\n",
       "\n",
       "[230 rows x 2 columns]"
      ]
     },
     "execution_count": 145,
     "metadata": {},
     "output_type": "execute_result"
    }
   ],
   "source": [
    "result = pd.DataFrame({'actual':Y_test,'pred':RF.predict(X_test)})\n",
    "result"
   ]
  },
  {
   "cell_type": "code",
   "execution_count": 146,
   "id": "541df416",
   "metadata": {},
   "outputs": [],
   "source": [
    "result.to_csv('hk_result.csv')"
   ]
  },
  {
   "cell_type": "code",
   "execution_count": 147,
   "id": "57b3cfac",
   "metadata": {},
   "outputs": [
    {
     "data": {
      "text/plain": [
       "0.4608695652173913"
      ]
     },
     "execution_count": 147,
     "metadata": {},
     "output_type": "execute_result"
    }
   ],
   "source": [
    "len(result[result.actual == 1])/ len(result)"
   ]
  },
  {
   "cell_type": "code",
   "execution_count": 148,
   "id": "7b4f3c12",
   "metadata": {},
   "outputs": [
    {
     "data": {
      "text/plain": [
       "0.5347826086956522"
      ]
     },
     "execution_count": 148,
     "metadata": {},
     "output_type": "execute_result"
    }
   ],
   "source": [
    "len(result[result.actual == -1])/ len(result)"
   ]
  }
 ],
 "metadata": {
  "kernelspec": {
   "display_name": "Python 3",
   "language": "python",
   "name": "python3"
  },
  "language_info": {
   "codemirror_mode": {
    "name": "ipython",
    "version": 3
   },
   "file_extension": ".py",
   "mimetype": "text/x-python",
   "name": "python",
   "nbconvert_exporter": "python",
   "pygments_lexer": "ipython3",
   "version": "3.8.8"
  }
 },
 "nbformat": 4,
 "nbformat_minor": 5
}
