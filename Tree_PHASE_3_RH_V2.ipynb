{
 "cells": [
  {
   "cell_type": "code",
   "execution_count": 1,
   "metadata": {},
   "outputs": [],
   "source": [
    "from pandas_datareader import data as pdr\n",
    "import yfinance as yf\n",
    "import pandas as pd\n",
    "import numpy as np\n",
    "import datetime as dt\n",
    "import matplotlib.pyplot as plt\n",
    "import matplotlib as mpl\n",
    "from sklearn import metrics\n",
    "from sklearn.metrics import accuracy_score\n",
    "import seaborn as sns\n",
    "sns.set()"
   ]
  },
  {
   "cell_type": "code",
   "execution_count": 2,
   "metadata": {},
   "outputs": [],
   "source": [
    "def g_mean(x1, x2):\n",
    "    return np.sqrt(x1*x2)"
   ]
  },
  {
   "cell_type": "code",
   "execution_count": 3,
   "metadata": {},
   "outputs": [],
   "source": [
    "def f1(recall, precision):\n",
    "    return 2/(recall**(-1)+precision**(-1))"
   ]
  },
  {
   "cell_type": "code",
   "execution_count": 4,
   "metadata": {},
   "outputs": [],
   "source": [
    "def gmean_f1(uprecall, downrecall, upprecision, downprecision):\n",
    "    return g_mean(f1(uprecall, upprecision),\n",
    "          f1(downrecall, downprecision))"
   ]
  },
  {
   "cell_type": "code",
   "execution_count": 5,
   "metadata": {},
   "outputs": [],
   "source": [
    "from sklearn.metrics import confusion_matrix\n",
    "from sklearn.metrics import classification_report"
   ]
  },
  {
   "cell_type": "markdown",
   "metadata": {},
   "source": [
    "## US VIX"
   ]
  },
  {
   "cell_type": "code",
   "execution_count": 6,
   "metadata": {},
   "outputs": [
    {
     "name": "stdout",
     "output_type": "stream",
     "text": [
      "US G-Mean F1 score: 0.5420059887153266\n",
      "US vol up precision: 0.5\n",
      "US vol down precision: 0.6068965517241379\n"
     ]
    }
   ],
   "source": [
    "us_compare = pd.read_csv('us_result.csv',index_col=[0])[:-1]\n",
    "\n",
    "us_compare_up = us_compare[us_compare['actual'] == 1]\n",
    "us_compare_down = us_compare[us_compare['actual'] == -1]\n",
    "\n",
    "us_tp = (us_compare_up.prod(axis=1)==1).sum()\n",
    "us_tn = (us_compare_down.prod(axis=1)==1).sum()\n",
    "us_fp = (us_compare_down.prod(axis=1)==-1).sum()\n",
    "us_fn = (us_compare_up.prod(axis=1)==-1).sum()\n",
    "\n",
    "us_up_precision = us_tp / (us_fp + us_tp)\n",
    "us_up_recall = us_tp / (us_fn + us_tp)\n",
    "us_down_precision = us_tn / (us_fn + us_tn)\n",
    "us_down_recall = us_tn / (us_fp + us_tn)\n",
    "\n",
    "print('US G-Mean F1 score: '+str(gmean_f1(us_up_recall,\n",
    "        us_down_recall,\n",
    "        us_up_precision,\n",
    "        us_down_precision)))\n",
    "print('US vol up precision: ' + str(us_up_precision))\n",
    "print('US vol down precision: ' + str(us_down_precision))"
   ]
  },
  {
   "cell_type": "code",
   "execution_count": 7,
   "metadata": {},
   "outputs": [
    {
     "name": "stdout",
     "output_type": "stream",
     "text": [
      "              precision    recall  f1-score   support\n",
      "\n",
      "        -1.0       0.61      0.68      0.64       130\n",
      "         1.0       0.50      0.42      0.46        99\n",
      "\n",
      "    accuracy                           0.57       229\n",
      "   macro avg       0.55      0.55      0.55       229\n",
      "weighted avg       0.56      0.57      0.56       229\n",
      "\n"
     ]
    }
   ],
   "source": [
    "print(classification_report(us_compare.actual,us_compare.pred))"
   ]
  },
  {
   "cell_type": "markdown",
   "metadata": {},
   "source": [
    "## India VIX"
   ]
  },
  {
   "cell_type": "code",
   "execution_count": 8,
   "metadata": {},
   "outputs": [
    {
     "name": "stdout",
     "output_type": "stream",
     "text": [
      "India G-Mean F1 score: 0.5538260235957547\n",
      "india vol up precision: 0.5581395348837209\n",
      "india vol down precision: 0.625\n"
     ]
    }
   ],
   "source": [
    "india_compare = pd.read_csv('india_result.csv',index_col=[0])[:-1]\n",
    "india_compare_up = india_compare[india_compare['actual'] == 1]\n",
    "india_compare_down = india_compare[india_compare['actual'] == -1]\n",
    "\n",
    "india_tp = (india_compare_up.prod(axis=1)==1).sum()\n",
    "india_tn = (india_compare_down.prod(axis=1)==1).sum()\n",
    "india_fp = (india_compare_down.prod(axis=1)==-1).sum()\n",
    "india_fn = (india_compare_up.prod(axis=1)==-1).sum()\n",
    "\n",
    "india_up_precision = india_tp / (india_fp + india_tp)\n",
    "india_up_recall = india_tp / (india_fn + india_tp)\n",
    "india_down_precision = india_tn / (india_fn + india_tn)\n",
    "india_down_recall = india_tn / (india_fp + india_tn)\n",
    "\n",
    "print('India G-Mean F1 score: '+str(gmean_f1(india_up_recall,\n",
    "        india_down_recall,\n",
    "        india_up_precision,\n",
    "        india_down_precision)))\n",
    "print('india vol up precision: ' + str(india_up_precision))\n",
    "print('india vol down precision: ' + str(india_down_precision))"
   ]
  },
  {
   "cell_type": "code",
   "execution_count": 9,
   "metadata": {},
   "outputs": [
    {
     "name": "stdout",
     "output_type": "stream",
     "text": [
      "              precision    recall  f1-score   support\n",
      "\n",
      "        -1.0       0.62      0.79      0.70        89\n",
      "         1.0       0.56      0.36      0.44        66\n",
      "\n",
      "    accuracy                           0.61       155\n",
      "   macro avg       0.59      0.58      0.57       155\n",
      "weighted avg       0.60      0.61      0.59       155\n",
      "\n"
     ]
    }
   ],
   "source": [
    "print(classification_report(india_compare.actual,india_compare.pred))"
   ]
  },
  {
   "cell_type": "markdown",
   "metadata": {},
   "source": [
    "## Europe VIX"
   ]
  },
  {
   "cell_type": "code",
   "execution_count": 10,
   "metadata": {},
   "outputs": [
    {
     "name": "stdout",
     "output_type": "stream",
     "text": [
      "Euro G-Mean F1 score: 0.47256418926118954\n",
      "Euro vol up precision: 0.7692307692307693\n",
      "Euro vol down precision: 0.5604395604395604\n"
     ]
    }
   ],
   "source": [
    "euro_compare = pd.read_csv('v2tx_result.csv',index_col=[0])[:-1]\n",
    "\n",
    "euro_compare_up = euro_compare[euro_compare['actual'] == 1]\n",
    "euro_compare_down = euro_compare[euro_compare['actual'] == -1]\n",
    "\n",
    "euro_tp = (euro_compare_up.prod(axis=1)==1).sum()\n",
    "euro_tn = (euro_compare_down.prod(axis=1)==1).sum()\n",
    "euro_fp = (euro_compare_down.prod(axis=1)==-1).sum()\n",
    "euro_fn = (euro_compare_up.prod(axis=1)==-1).sum()\n",
    "\n",
    "euro_up_precision = euro_tp / (euro_fp + euro_tp)\n",
    "euro_up_recall = euro_tp / (euro_fn + euro_tp)\n",
    "euro_down_precision = euro_tn / (euro_fn + euro_tn)\n",
    "euro_down_recall = euro_tn / (euro_fp + euro_tn)\n",
    "\n",
    "print('Euro G-Mean F1 score: '+str(gmean_f1(euro_up_recall,\n",
    "        euro_down_recall,\n",
    "        euro_up_precision,\n",
    "        euro_down_precision)))\n",
    "print('Euro vol up precision: ' + str(euro_up_precision))\n",
    "print('Euro vol down precision: ' + str(euro_down_precision))"
   ]
  },
  {
   "cell_type": "code",
   "execution_count": 11,
   "metadata": {},
   "outputs": [
    {
     "name": "stdout",
     "output_type": "stream",
     "text": [
      "              precision    recall  f1-score   support\n",
      "\n",
      "        -1.0       0.56      0.94      0.70        54\n",
      "         1.0       0.77      0.20      0.32        50\n",
      "\n",
      "    accuracy                           0.59       104\n",
      "   macro avg       0.66      0.57      0.51       104\n",
      "weighted avg       0.66      0.59      0.52       104\n",
      "\n"
     ]
    }
   ],
   "source": [
    "print(classification_report(euro_compare.actual,euro_compare.pred))"
   ]
  },
  {
   "cell_type": "markdown",
   "metadata": {},
   "source": [
    "## HK VIX"
   ]
  },
  {
   "cell_type": "code",
   "execution_count": 12,
   "metadata": {},
   "outputs": [
    {
     "name": "stdout",
     "output_type": "stream",
     "text": [
      "HK G-Mean F1 score: 0.5354338612706726\n",
      "HK vol up precision: 0.5932203389830508\n",
      "HK vol down precision: 0.5823529411764706\n"
     ]
    }
   ],
   "source": [
    "hk_compare = pd.read_csv('hk_result.csv',index_col=[0])[:-1]\n",
    "\n",
    "hk_compare_up = hk_compare[hk_compare['actual'] == 1]\n",
    "hk_compare_down = hk_compare[hk_compare['actual'] == -1]\n",
    "\n",
    "hk_tp = (hk_compare_up.prod(axis=1)==1).sum()\n",
    "hk_tn = (hk_compare_down.prod(axis=1)==1).sum()\n",
    "hk_fp = (hk_compare_down.prod(axis=1)==-1).sum()\n",
    "hk_fn = (hk_compare_up.prod(axis=1)==-1).sum()\n",
    "\n",
    "hk_up_precision = hk_tp / (hk_fp + hk_tp)\n",
    "hk_up_recall = hk_tp / (hk_fn + hk_tp)\n",
    "hk_down_precision = hk_tn / (hk_fn + hk_tn)\n",
    "hk_down_recall = hk_tn / (hk_fp + hk_tn)\n",
    "\n",
    "print('HK G-Mean F1 score: '+str(gmean_f1(hk_up_recall,\n",
    "        hk_down_recall,\n",
    "        hk_up_precision,\n",
    "        hk_down_precision)))\n",
    "print('HK vol up precision: ' + str(hk_up_precision))\n",
    "print('HK vol down precision: ' + str(hk_down_precision))"
   ]
  },
  {
   "cell_type": "code",
   "execution_count": 13,
   "metadata": {},
   "outputs": [
    {
     "name": "stdout",
     "output_type": "stream",
     "text": [
      "              precision    recall  f1-score   support\n",
      "\n",
      "        -1.0       0.58      0.80      0.68       123\n",
      "         1.0       0.59      0.33      0.42       106\n",
      "\n",
      "    accuracy                           0.59       229\n",
      "   macro avg       0.59      0.57      0.55       229\n",
      "weighted avg       0.59      0.59      0.56       229\n",
      "\n"
     ]
    }
   ],
   "source": [
    "print(classification_report(hk_compare.actual,hk_compare.pred))"
   ]
  },
  {
   "cell_type": "markdown",
   "metadata": {},
   "source": [
    "# 2-side Precision Visualization"
   ]
  },
  {
   "cell_type": "code",
   "execution_count": 14,
   "metadata": {},
   "outputs": [
    {
     "data": {
      "image/png": "[encoded data removed]",
      "text/plain": [
       "<Figure size 1152x576 with 1 Axes>"
      ]
     },
     "metadata": {},
     "output_type": "display_data"
    }
   ],
   "source": [
    "plt.figure(figsize = (16,8))\n",
    "\n",
    "x = ['US', 'India', 'Europe', 'Hong Kong']\n",
    "y_up = [us_up_precision, india_up_precision, euro_up_precision, hk_up_precision]\n",
    "y_down = [us_down_precision, india_down_precision, euro_down_precision, hk_down_precision]\n",
    "\n",
    "x_axis = np.arange(len(x))\n",
    "\n",
    "barplot_up_precision = plt.bar(x_axis-0.2, y_up, 0.4, label='up precision')\n",
    "barplot_down_precision = plt.bar(x_axis+0.2, y_down, 0.4, label='down precision')\n",
    "\n",
    "plt.bar_label(barplot_up_precision, labels = np.round(y_up,3))\n",
    "plt.bar_label(barplot_down_precision, labels = np.round(y_down,3))\n",
    "\n",
    "plt.xticks(x_axis, x)\n",
    "plt.xlabel(\"Developed & Emerging Markets\", fontsize = 12, fontweight = \"bold\") \n",
    "plt.ylabel(\"Precision\",fontsize = 12, fontweight = \"bold\")\n",
    "plt.title(\"2-side Precision Comparison across Different Markets\", fontsize = 12, fontweight = \"bold\")\n",
    "plt.legend()\n",
    "plt.show()"
   ]
  },
  {
   "cell_type": "markdown",
   "metadata": {},
   "source": [
    "# End of Phase 3"
   ]
  },
  {
   "cell_type": "code",
   "execution_count": null,
   "metadata": {},
   "outputs": [],
   "source": []
  }
 ],
 "metadata": {
  "kernelspec": {
   "display_name": "Python 3 (ipykernel)",
   "language": "python",
   "name": "python3"
  },
  "language_info": {
   "codemirror_mode": {
    "name": "ipython",
    "version": 3
   },
   "file_extension": ".py",
   "mimetype": "text/x-python",
   "name": "python",
   "nbconvert_exporter": "python",
   "pygments_lexer": "ipython3",
   "version": "3.9.12"
  }
 },
 "nbformat": 4,
 "nbformat_minor": 4
}
